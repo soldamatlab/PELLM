{
 "cells": [
  {
   "cell_type": "code",
   "execution_count": 12,
   "metadata": {},
   "outputs": [],
   "source": [
    "%load_ext autoreload\n",
    "%autoreload 2\n",
    "\n",
    "import torch\n",
    "\n",
    "#from lib.model.progen.init_model import init_model\n",
    "from lib.model.extended.init_model import init_model\n",
    "from lib.model.train import train\n",
    "from lib.model.progen.init_tokenizer import init_tokenizer\n",
    "from lib.data.datasets.GB1 import get_GB1_dataset"
   ]
  },
  {
   "cell_type": "markdown",
   "metadata": {},
   "source": [
    "Device"
   ]
  },
  {
   "cell_type": "code",
   "execution_count": 13,
   "metadata": {},
   "outputs": [],
   "source": [
    "device = torch.device(\"cuda\" if torch.cuda.is_available() else \"cpu\")"
   ]
  },
  {
   "cell_type": "markdown",
   "metadata": {},
   "source": [
    "Tokenizer"
   ]
  },
  {
   "cell_type": "code",
   "execution_count": 14,
   "metadata": {},
   "outputs": [],
   "source": [
    "tokenizer = init_tokenizer()\n",
    "tokenize = lambda sequence: torch.tensor(tokenizer.encode(sequence).ids)"
   ]
  },
  {
   "cell_type": "markdown",
   "metadata": {},
   "source": [
    "Model"
   ]
  },
  {
   "cell_type": "code",
   "execution_count": 15,
   "metadata": {},
   "outputs": [
    {
     "name": "stderr",
     "output_type": "stream",
     "text": [
      "Some weights of the model checkpoint at s:\\Documents\\master\\code\\llm\\lib\\model\\progen/../../../../../ProGen/progen/progen2/checkpoints/progen2-small were not used when initializing ProGenModel: ['lm_head.weight', 'lm_head.bias']\n",
      "- This IS expected if you are initializing ProGenModel from the checkpoint of a model trained on another task or with another architecture (e.g. initializing a BertForSequenceClassification model from a BertForPreTraining model).\n",
      "- This IS NOT expected if you are initializing ProGenModel from the checkpoint of a model that you expect to be exactly identical (initializing a BertForSequenceClassification model from a BertForSequenceClassification model).\n"
     ]
    },
    {
     "name": "stdout",
     "output_type": "stream",
     "text": [
      "loading model state dict from file \"s:\\Documents\\master\\code\\llm/models/progen_extended_data_balanced_01.pt\"\n"
     ]
    }
   ],
   "source": [
    "#model = init_model().to(device)\n",
    "model = init_model(state_dict_path=\"/models/progen_extended_data_balanced_01.pt\").to(device)"
   ]
  },
  {
   "cell_type": "code",
   "execution_count": null,
   "metadata": {},
   "outputs": [],
   "source": [
    "print([param for param in model.parameters()])"
   ]
  },
  {
   "cell_type": "code",
   "execution_count": 17,
   "metadata": {},
   "outputs": [
    {
     "data": {
      "text/plain": [
       "tensor(0.0345, device='cuda:0', grad_fn=<UnbindBackward>)"
      ]
     },
     "execution_count": 17,
     "metadata": {},
     "output_type": "execute_result"
    }
   ],
   "source": [
    "max(abs(model.fitness_head.weight[0]))"
   ]
  },
  {
   "cell_type": "code",
   "execution_count": null,
   "metadata": {},
   "outputs": [],
   "source": [
    "model"
   ]
  },
  {
   "cell_type": "markdown",
   "metadata": {},
   "source": [
    "Trained model sandbox"
   ]
  },
  {
   "cell_type": "code",
   "execution_count": null,
   "metadata": {},
   "outputs": [],
   "source": [
    "\n",
    "from lib.model.extended.init_model import init_model\n",
    "from lib.model.progen.init_tokenizer import init_tokenizer\n",
    "from lib.data.datasets.GB1 import prepare_sequences, tokenize_batch, load_data\n",
    "\n",
    "device = torch.device(\"cuda\" if torch.cuda.is_available() else \"cpu\")\n",
    "\n",
    "tokenizer = init_tokenizer()\n",
    "tokenize = lambda sequence: torch.tensor(tokenizer.encode(sequence).ids)\n",
    "\n",
    "info = loss_history = torch.load(\"./models/progen_extended_data_balanced_01_info.pt\")\n",
    "test_variants = info[\"test_variants\"]\n",
    "test_sequences = tokenize_batch(prepare_sequences(test_variants), tokenize).to(device)\n",
    "#df = load_data()\n",
    "\n",
    "model = init_model(state_dict_path=\"/models/progen_extended_data_balanced_01.pt\").to(device)\n",
    "model.eval()"
   ]
  },
  {
   "cell_type": "code",
   "execution_count": 64,
   "metadata": {},
   "outputs": [
    {
     "data": {
      "text/plain": [
       "685"
      ]
     },
     "execution_count": 64,
     "metadata": {},
     "output_type": "execute_result"
    }
   ],
   "source": [
    "import numpy as np\n",
    "\n",
    "test_df = df.loc[df[\"Variants\"].isin(test_variants)]\n",
    "best_test_variant = np.argmax(test_df[\"Fitness\"].values)\n",
    "best_test_variant"
   ]
  },
  {
   "cell_type": "code",
   "execution_count": 65,
   "metadata": {},
   "outputs": [
    {
     "name": "stdout",
     "output_type": "stream",
     "text": [
      "tensor([-0.0034], device='cuda:0', grad_fn=<SelectBackward>)\n",
      "[2.54879988]\n"
     ]
    }
   ],
   "source": [
    "sequence_id = best_test_variant\n",
    "\n",
    "print(model(test_sequences[sequence_id])[-1])\n",
    "print(df.loc[df[\"Variants\"] == test_variants[sequence_id]][\"Fitness\"].values)"
   ]
  },
  {
   "cell_type": "markdown",
   "metadata": {},
   "source": [
    "Save / Load model states"
   ]
  },
  {
   "cell_type": "code",
   "execution_count": 45,
   "metadata": {},
   "outputs": [],
   "source": [
    "import os"
   ]
  },
  {
   "cell_type": "code",
   "execution_count": 50,
   "metadata": {},
   "outputs": [],
   "source": [
    "MODEL_PATH = os.getcwd() + \"/models/progen_extended_v1.pt\""
   ]
  },
  {
   "cell_type": "code",
   "execution_count": 24,
   "metadata": {},
   "outputs": [],
   "source": [
    "#torch.save(model, MODEL_PATH)\n",
    "\n",
    "torch.save(model.state_dict(), MODEL_PATH)"
   ]
  },
  {
   "cell_type": "code",
   "execution_count": null,
   "metadata": {},
   "outputs": [],
   "source": [
    "#model = torch.load(MODEL_PATH)\n",
    "\n",
    "# ! init the model first\n",
    "model.load_state_dict(torch.load(MODEL_PATH))"
   ]
  },
  {
   "cell_type": "markdown",
   "metadata": {},
   "source": [
    "Data"
   ]
  },
  {
   "cell_type": "code",
   "execution_count": 5,
   "metadata": {},
   "outputs": [
    {
     "name": "stderr",
     "output_type": "stream",
     "text": [
      "s:\\Documents\\master\\ProGen\\progen\\progen2\\.venv\\lib\\site-packages\\openpyxl\\worksheet\\_reader.py:329: UserWarning: Unknown extension is not supported and will be removed\n",
      "  warn(msg)\n"
     ]
    }
   ],
   "source": [
    "tokenize = lambda sequence: tokenizer.encode(sequence).ids\n",
    "\n",
    "sequences, fitnesses = get_GB1_dataset(\n",
    "    tokenize=tokenize,\n",
    "    device=device,\n",
    ")"
   ]
  },
  {
   "cell_type": "code",
   "execution_count": 10,
   "metadata": {},
   "outputs": [
    {
     "name": "stderr",
     "output_type": "stream",
     "text": [
      "s:\\Documents\\master\\ProGen\\progen\\progen2\\.venv\\lib\\site-packages\\openpyxl\\worksheet\\_reader.py:329: UserWarning: Unknown extension is not supported and will be removed\n",
      "  warn(msg)\n"
     ]
    }
   ],
   "source": [
    "TEST_SPLIT = 500 / 149631\n",
    "\n",
    "tokenize = lambda sequence: tokenizer.encode(sequence).ids\n",
    "\n",
    "train_sequences, train_fitnesses, test_sequences, test_fitnesses = get_GB1_dataset(\n",
    "    tokenize=tokenize,\n",
    "    test_split=TEST_SPLIT,\n",
    "    device=device,\n",
    ")"
   ]
  },
  {
   "cell_type": "code",
   "execution_count": 13,
   "metadata": {},
   "outputs": [],
   "source": [
    "N_DATA = 100\n",
    "\n",
    "n_train = int(N_DATA * (1-TEST_SPLIT))\n",
    "n_test = int(N_DATA * TEST_SPLIT)\n",
    "train_sequences = train_sequences[0:n_train]\n",
    "train_fitnesses = train_fitnesses[0:n_train]\n",
    "test_sequences = test_sequences[0:n_test]\n",
    "test_fitnesses = test_fitnesses[0:n_test]"
   ]
  },
  {
   "cell_type": "markdown",
   "metadata": {},
   "source": [
    "Train"
   ]
  },
  {
   "cell_type": "code",
   "execution_count": 13,
   "metadata": {},
   "outputs": [
    {
     "data": {
      "text/plain": [
       "tensor([7.2248], device='cuda:0', grad_fn=<SelectBackward>)"
      ]
     },
     "execution_count": 13,
     "metadata": {},
     "output_type": "execute_result"
    }
   ],
   "source": [
    "out = model.forward(sequences[127726]) # 57022\n",
    "out.size()\n",
    "out[-1]"
   ]
  },
  {
   "cell_type": "code",
   "execution_count": null,
   "metadata": {},
   "outputs": [],
   "source": [
    "loss_history = train(\n",
    "    model=model,\n",
    "    device=device,\n",
    "\n",
    "    train_data=train_sequences,\n",
    "    train_labels=train_fitnesses,\n",
    "    test_data=test_sequences,\n",
    "    test_labels=test_fitnesses,\n",
    "\n",
    "    loss_function=torch.nn.functional.mse_loss,\n",
    "    batch_size=1,\n",
    "    learning_rate=1e-3,\n",
    "    n_epochs=1,\n",
    ")"
   ]
  },
  {
   "cell_type": "markdown",
   "metadata": {},
   "source": [
    "Train Progen Extended"
   ]
  },
  {
   "cell_type": "code",
   "execution_count": 1,
   "metadata": {},
   "outputs": [
    {
     "name": "stderr",
     "output_type": "stream",
     "text": [
      "s:\\Documents\\master\\ProGen\\progen\\progen2\\.venv\\lib\\site-packages\\tqdm\\auto.py:21: TqdmWarning: IProgress not found. Please update jupyter and ipywidgets. See https://ipywidgets.readthedocs.io/en/stable/user_install.html\n",
      "  from .autonotebook import tqdm as notebook_tqdm\n"
     ]
    }
   ],
   "source": [
    "%load_ext autoreload\n",
    "%autoreload 2\n",
    "\n",
    "from progen_extended import train_progen_extended"
   ]
  },
  {
   "cell_type": "code",
   "execution_count": null,
   "metadata": {},
   "outputs": [],
   "source": [
    "loss_history = train_progen_extended(\n",
    "    state_dict_path=\"\",\n",
    "    save_state_dict=\"/models/progen_extended_tmp2.pt\",\n",
    "    save_history=\"/models/progen_extended_tmp2_history.pt\",\n",
    ")"
   ]
  },
  {
   "cell_type": "markdown",
   "metadata": {},
   "source": [
    "Sandbox"
   ]
  },
  {
   "cell_type": "code",
   "execution_count": 1,
   "metadata": {},
   "outputs": [
    {
     "name": "stderr",
     "output_type": "stream",
     "text": [
      "s:\\Documents\\master\\ProGen\\progen\\progen2\\.venv\\lib\\site-packages\\tqdm\\auto.py:21: TqdmWarning: IProgress not found. Please update jupyter and ipywidgets. See https://ipywidgets.readthedocs.io/en/stable/user_install.html\n",
      "  from .autonotebook import tqdm as notebook_tqdm\n"
     ]
    }
   ],
   "source": [
    "import torch\n",
    "import matplotlib.pyplot as plt"
   ]
  },
  {
   "cell_type": "code",
   "execution_count": 56,
   "metadata": {},
   "outputs": [],
   "source": [
    "loss_history = torch.load(\"./models/progen_extended_data_balanced_02_info.pt\")[\"loss_history\"]\n",
    "#loss_history = torch.load(\"./models/progen_extended_v1_01_history.pt\")"
   ]
  },
  {
   "cell_type": "code",
   "execution_count": 57,
   "metadata": {},
   "outputs": [
    {
     "data": {
      "text/plain": [
       "torch.Size([6, 66])"
      ]
     },
     "execution_count": 57,
     "metadata": {},
     "output_type": "execute_result"
    }
   ],
   "source": [
    "loss_history.size()"
   ]
  },
  {
   "cell_type": "code",
   "execution_count": 58,
   "metadata": {},
   "outputs": [
    {
     "data": {
      "image/png": "[encoded data removed]",
      "text/plain": [
       "<Figure size 640x480 with 1 Axes>"
      ]
     },
     "metadata": {},
     "output_type": "display_data"
    }
   ],
   "source": [
    "plt.plot(0, loss_history[0, -1], '.')\n",
    "for i in range(1, loss_history.size()[0]):\n",
    "    plt.plot(\n",
    "        [(i-1)*loss_history.size()[1]+b for b in range(1, loss_history.size()[1]+1)],\n",
    "        #torch.cat((loss_history[0, -1:], loss_history[1, :])),\n",
    "        loss_history[i, :],\n",
    "        \".-\",\n",
    "    )\n",
    "plt.xlabel(\"Evaluation #\")\n",
    "plt.ylabel(\"Error on test data\")\n",
    "plt.title(\"Progen extended training\")\n",
    "\n",
    "plt.show()"
   ]
  },
  {
   "cell_type": "code",
   "execution_count": 1,
   "metadata": {},
   "outputs": [
    {
     "name": "stderr",
     "output_type": "stream",
     "text": [
      "s:\\Documents\\master\\ProGen\\progen\\progen2\\.venv\\lib\\site-packages\\tqdm\\auto.py:21: TqdmWarning: IProgress not found. Please update jupyter and ipywidgets. See https://ipywidgets.readthedocs.io/en/stable/user_install.html\n",
      "  from .autonotebook import tqdm as notebook_tqdm\n"
     ]
    }
   ],
   "source": [
    "%load_ext autoreload\n",
    "%autoreload 2\n",
    "\n",
    "import torch\n",
    "from progen_extended_init_test import test_initialization\n",
    "from lib.utils.file import save_pt_file"
   ]
  },
  {
   "cell_type": "code",
   "execution_count": 2,
   "metadata": {},
   "outputs": [
    {
     "name": "stdout",
     "output_type": "stream",
     "text": [
      "Connecting to device\n",
      "Loading tokenizer\n",
      "Loading GB1 data\n"
     ]
    },
    {
     "name": "stderr",
     "output_type": "stream",
     "text": [
      "s:\\Documents\\master\\ProGen\\progen\\progen2\\.venv\\lib\\site-packages\\openpyxl\\worksheet\\_reader.py:329: UserWarning: Unknown extension is not supported and will be removed\n",
      "  warn(msg)\n"
     ]
    },
    {
     "name": "stdout",
     "output_type": "stream",
     "text": [
      "Initializing model\n"
     ]
    },
    {
     "name": "stderr",
     "output_type": "stream",
     "text": [
      "Some weights of the model checkpoint at s:\\Documents\\master\\code\\llm\\lib\\model\\progen/../../../../../ProGen/progen/progen2/checkpoints/progen2-small were not used when initializing ProGenModel: ['lm_head.bias', 'lm_head.weight']\n",
      "- This IS expected if you are initializing ProGenModel from the checkpoint of a model trained on another task or with another architecture (e.g. initializing a BertForSequenceClassification model from a BertForPreTraining model).\n",
      "- This IS NOT expected if you are initializing ProGenModel from the checkpoint of a model that you expect to be exactly identical (initializing a BertForSequenceClassification model from a BertForSequenceClassification model).\n"
     ]
    },
    {
     "name": "stdout",
     "output_type": "stream",
     "text": [
      "Running initialization test\n"
     ]
    },
    {
     "name": "stderr",
     "output_type": "stream",
     "text": [
      "s:\\Documents\\master\\code\\llm\\progen_extended_init_test.py:51: UserWarning: Using a target size (torch.Size([10])) that is different to the input size (torch.Size([10, 56, 1])). This will likely lead to incorrect results due to broadcasting. Please ensure they have the same size.\n",
      "  losses[init] = loss_function(outputs, fitnesses)\n"
     ]
    },
    {
     "name": "stdout",
     "output_type": "stream",
     "text": [
      "Initialization 1: loss = 3.0504567623138428\n",
      "Initialization 2: loss = 8.231841087341309\n",
      "Initialization 3: loss = 6.611791133880615\n",
      "Initialization 4: loss = 3.734952449798584\n",
      "Initialization 5: loss = 7.981017112731934\n",
      "Initialization 6: loss = 8.263606071472168\n",
      "Initialization 7: loss = 5.743655681610107\n",
      "Initialization 8: loss = 3.9771087169647217\n",
      "Initialization 9: loss = 3.639610767364502\n",
      "Initialization 10: loss = 8.420339584350586\n",
      "Initialization 11: loss = 8.270730972290039\n",
      "Initialization 12: loss = 5.089890003204346\n",
      "Initialization 13: loss = 4.61594295501709\n",
      "Initialization 14: loss = 8.41986083984375\n",
      "Initialization 15: loss = 7.164413928985596\n",
      "Initialization 16: loss = 8.370397567749023\n",
      "Initialization 17: loss = 8.238313674926758\n",
      "Initialization 18: loss = 7.744263172149658\n",
      "Initialization 19: loss = 3.364473342895508\n",
      "Initialization 20: loss = 8.223790168762207\n",
      "Initialization 21: loss = 5.46920108795166\n",
      "Initialization 22: loss = 10.152097702026367\n",
      "Initialization 23: loss = 7.843621730804443\n",
      "Initialization 24: loss = 8.072525978088379\n",
      "Initialization 25: loss = 4.287817478179932\n",
      "Initialization 26: loss = 6.1101155281066895\n",
      "Initialization 27: loss = 7.631990909576416\n",
      "Initialization 28: loss = 7.288402557373047\n",
      "Initialization 29: loss = 6.593654155731201\n",
      "Initialization 30: loss = 8.317606925964355\n",
      "Initialization 31: loss = 8.302433013916016\n",
      "Initialization 32: loss = 3.5913357734680176\n",
      "Initialization 33: loss = 8.319964408874512\n",
      "Initialization 34: loss = 5.866611480712891\n",
      "Initialization 35: loss = 6.968106746673584\n",
      "Initialization 36: loss = 8.229589462280273\n",
      "Initialization 37: loss = 8.291772842407227\n",
      "Initialization 38: loss = 4.557093143463135\n",
      "Initialization 39: loss = 8.356832504272461\n",
      "Initialization 40: loss = 8.357412338256836\n",
      "Initialization 41: loss = 8.34814453125\n",
      "Initialization 42: loss = 8.341302871704102\n",
      "Initialization 43: loss = 5.89824914932251\n",
      "Initialization 44: loss = 5.019021034240723\n",
      "Initialization 45: loss = 8.010868072509766\n",
      "Initialization 46: loss = 8.376656532287598\n",
      "Initialization 47: loss = 7.4564900398254395\n",
      "Initialization 48: loss = 4.514138698577881\n",
      "Initialization 49: loss = 8.28763198852539\n",
      "Initialization 50: loss = 5.112214088439941\n",
      "Initialization 51: loss = 4.437225818634033\n",
      "Initialization 52: loss = 12.785075187683105\n",
      "Initialization 53: loss = 8.290003776550293\n",
      "Initialization 54: loss = 8.241737365722656\n",
      "Initialization 55: loss = 8.369268417358398\n",
      "Initialization 56: loss = 8.499056816101074\n",
      "Initialization 57: loss = 8.356027603149414\n",
      "Initialization 58: loss = 8.285224914550781\n",
      "Initialization 59: loss = 3.97176194190979\n",
      "Initialization 60: loss = 3.2592177391052246\n",
      "Initialization 61: loss = 3.5881333351135254\n",
      "Initialization 62: loss = 8.27623462677002\n",
      "Initialization 63: loss = 8.037960052490234\n",
      "Initialization 64: loss = 3.2904655933380127\n",
      "Initialization 65: loss = 3.395535707473755\n",
      "Initialization 66: loss = 7.611125946044922\n",
      "Initialization 67: loss = 8.1759672164917\n",
      "Initialization 68: loss = 3.3004958629608154\n",
      "Initialization 69: loss = 8.231853485107422\n",
      "Initialization 70: loss = 8.390228271484375\n",
      "Initialization 71: loss = 4.0346598625183105\n",
      "Initialization 72: loss = 8.242217063903809\n",
      "Initialization 73: loss = 6.172999382019043\n",
      "Initialization 74: loss = 6.950654029846191\n",
      "Initialization 75: loss = 3.2557177543640137\n",
      "Initialization 76: loss = 3.7144935131073\n",
      "Initialization 77: loss = 4.272558689117432\n",
      "Initialization 78: loss = 8.35381031036377\n",
      "Initialization 79: loss = 6.436473846435547\n",
      "Initialization 80: loss = 6.676143169403076\n",
      "Initialization 81: loss = 7.954300880432129\n",
      "Initialization 82: loss = 8.561423301696777\n",
      "Initialization 83: loss = 3.7950351238250732\n",
      "Initialization 84: loss = 8.336440086364746\n",
      "Initialization 85: loss = 5.582737445831299\n",
      "Initialization 86: loss = 8.483521461486816\n",
      "Initialization 87: loss = 8.311736106872559\n",
      "Initialization 88: loss = 8.054645538330078\n",
      "Initialization 89: loss = 8.31817626953125\n",
      "Initialization 90: loss = 8.287738800048828\n",
      "Initialization 91: loss = 3.5578877925872803\n",
      "Initialization 92: loss = 11.599794387817383\n",
      "Initialization 93: loss = 6.6636552810668945\n",
      "Initialization 94: loss = 8.4664306640625\n",
      "Initialization 95: loss = 8.296904563903809\n",
      "Initialization 96: loss = 8.231406211853027\n",
      "Initialization 97: loss = 5.580757141113281\n",
      "Initialization 98: loss = 8.182802200317383\n",
      "Initialization 99: loss = 7.132348537445068\n",
      "Initialization 100: loss = 8.229118347167969\n",
      "saving losses and data to file \"s:\\Documents\\master\\code\\llm/data/init_test_ninit-100_data-select_lf-mse_run-1.pt\"\n"
     ]
    }
   ],
   "source": [
    "N_INITIALIZATIONS = 100\n",
    "\n",
    "DATA_INDEXES = [0, 1, 18, 74, 519, 623, 949, 32322, 50456, 49771]\n",
    "N_DATA = None\n",
    "#N_DATA = 100\n",
    "\n",
    "LOSS_FUNCTION = torch.nn.functional.mse_loss\n",
    "LOSS_FUNCTION_NAME = \"mse\"\n",
    "RUN = 1\n",
    "\n",
    "losses, sequences, fitnesses = test_initialization(\n",
    "    n_initializations=N_INITIALIZATIONS,\n",
    "    n_data=N_DATA,\n",
    "    data_indexes=DATA_INDEXES,\n",
    "    loss_function=LOSS_FUNCTION,\n",
    "    return_data=True,\n",
    ")\n",
    "\n",
    "save_pt_file(\n",
    "    {\"losses\": losses, \"sequences\": sequences, \"fitnesses\": fitnesses},\n",
    "    #save_to=f\"/data/init_test_ninit-{N_INITIALIZATIONS}_ndata-{N_DATA}_lf-{LOSS_FUNCTION_NAME}_run-{RUN}.pt\",\n",
    "    save_to=f\"/data/init_test_ninit-{N_INITIALIZATIONS}_data-select_lf-{LOSS_FUNCTION_NAME}_run-{RUN}.pt\",\n",
    "    var_name=\"losses and data\",\n",
    ")"
   ]
  },
  {
   "cell_type": "code",
   "execution_count": 4,
   "metadata": {},
   "outputs": [
    {
     "data": {
      "text/plain": [
       "tensor([1.0000, 0.0619, 2.4012, 3.8915, 0.0000, 5.0753, 0.6749, 2.0556, 3.6573,\n",
       "        4.0796], device='cuda:0')"
      ]
     },
     "execution_count": 4,
     "metadata": {},
     "output_type": "execute_result"
    }
   ],
   "source": [
    "fitnesses"
   ]
  },
  {
   "cell_type": "code",
   "execution_count": 6,
   "metadata": {},
   "outputs": [
    {
     "name": "stderr",
     "output_type": "stream",
     "text": [
      "s:\\Documents\\master\\ProGen\\progen\\progen2\\.venv\\lib\\site-packages\\openpyxl\\worksheet\\_reader.py:329: UserWarning: Unknown extension is not supported and will be removed\n",
      "  warn(msg)\n"
     ]
    }
   ],
   "source": [
    "(\n",
    "    sequences,\n",
    "    fitnesses,\n",
    ") = get_GB1_dataset(shuffle=False, raw=True)"
   ]
  },
  {
   "cell_type": "code",
   "execution_count": 71,
   "metadata": {},
   "outputs": [
    {
     "data": {
      "text/plain": [
       "70"
      ]
     },
     "execution_count": 71,
     "metadata": {},
     "output_type": "execute_result"
    }
   ],
   "source": [
    "sequence = 'AACAACAACAAACAACAACAAACAACAACAAACAACAACAAACAACAACAAACAACAACAAACAACAACAAACAACAACAAACAACAACAAACAACAACA'\n",
    "#sequence = 'CCACCACCACCCACCACCACCCACCACCACCCACCACCACCCACCACCACCCACCACCACCCACCACCACCCACCACCACCCACCACCACCCACCACCAC'\n",
    "sequence.count('A')"
   ]
  },
  {
   "cell_type": "code",
   "execution_count": 72,
   "metadata": {},
   "outputs": [],
   "source": [
    "prediction = model(tokenize(sequence).to(device))"
   ]
  },
  {
   "cell_type": "code",
   "execution_count": 73,
   "metadata": {},
   "outputs": [
    {
     "data": {
      "text/plain": [
       "tensor([[ 83.6339],\n",
       "        [ 83.6339],\n",
       "        [ 97.4809],\n",
       "        [100.6896],\n",
       "        [ 88.4701],\n",
       "        [ 87.8587],\n",
       "        [ 85.4522],\n",
       "        [ 72.6343],\n",
       "        [ 84.1265],\n",
       "        [ 79.6446],\n",
       "        [ 58.5573],\n",
       "        [ 78.8447],\n",
       "        [ 92.9054],\n",
       "        [ 79.2548],\n",
       "        [ 79.8149],\n",
       "        [ 80.9938],\n",
       "        [ 80.0447],\n",
       "        [ 64.2967],\n",
       "        [ 79.4195],\n",
       "        [ 80.0127],\n",
       "        [ 64.9874],\n",
       "        [ 76.4079],\n",
       "        [ 86.0560],\n",
       "        [ 80.3433],\n",
       "        [ 62.1999],\n",
       "        [ 79.2397],\n",
       "        [ 80.3691],\n",
       "        [ 62.5652],\n",
       "        [ 79.0061],\n",
       "        [ 79.3325],\n",
       "        [ 62.2452],\n",
       "        [ 69.8980],\n",
       "        [ 84.3062],\n",
       "        [ 77.7817],\n",
       "        [ 61.2099],\n",
       "        [ 76.6757],\n",
       "        [ 79.0464],\n",
       "        [ 61.9562],\n",
       "        [ 76.4405],\n",
       "        [ 77.5661],\n",
       "        [ 62.6651],\n",
       "        [ 64.0236],\n",
       "        [ 82.6489],\n",
       "        [ 76.2479],\n",
       "        [ 59.7201],\n",
       "        [ 75.7414],\n",
       "        [ 77.9078],\n",
       "        [ 61.8727],\n",
       "        [ 75.0160],\n",
       "        [ 76.1137],\n",
       "        [ 62.6268],\n",
       "        [ 60.2531],\n",
       "        [ 81.1289],\n",
       "        [ 74.9762],\n",
       "        [ 58.1969],\n",
       "        [ 75.1176],\n",
       "        [ 76.5523],\n",
       "        [ 61.5985],\n",
       "        [ 74.2997],\n",
       "        [ 75.4098],\n",
       "        [ 62.4471],\n",
       "        [ 57.3564],\n",
       "        [ 79.7718],\n",
       "        [ 75.1304],\n",
       "        [ 57.2749],\n",
       "        [ 75.0074],\n",
       "        [ 75.9496],\n",
       "        [ 60.9523],\n",
       "        [ 73.8720],\n",
       "        [ 74.6914],\n",
       "        [ 62.5417],\n",
       "        [ 55.7798],\n",
       "        [ 78.5093],\n",
       "        [ 74.3840],\n",
       "        [ 57.0368],\n",
       "        [ 74.8045],\n",
       "        [ 75.1717],\n",
       "        [ 61.1564],\n",
       "        [ 73.7972],\n",
       "        [ 73.8871],\n",
       "        [ 62.5341],\n",
       "        [ 54.2392],\n",
       "        [ 78.1669],\n",
       "        [ 73.9486],\n",
       "        [ 55.9068],\n",
       "        [ 74.3266],\n",
       "        [ 74.2970],\n",
       "        [ 60.0592],\n",
       "        [ 73.1964],\n",
       "        [ 73.3230],\n",
       "        [ 62.1923],\n",
       "        [ 53.1949],\n",
       "        [ 77.0651],\n",
       "        [ 73.6418],\n",
       "        [ 55.2260],\n",
       "        [ 73.4659],\n",
       "        [ 73.5770],\n",
       "        [ 59.7116],\n",
       "        [ 72.3021],\n",
       "        [ 72.6306]], device='cuda:0', grad_fn=<LeakyReluBackward0>)"
      ]
     },
     "execution_count": 73,
     "metadata": {},
     "output_type": "execute_result"
    }
   ],
   "source": [
    "prediction"
   ]
  }
 ],
 "metadata": {
  "kernelspec": {
   "display_name": "Python 3",
   "language": "python",
   "name": "python3"
  },
  "language_info": {
   "codemirror_mode": {
    "name": "ipython",
    "version": 3
   },
   "file_extension": ".py",
   "mimetype": "text/x-python",
   "name": "python",
   "nbconvert_exporter": "python",
   "pygments_lexer": "ipython3",
   "version": "3.8.0"
  }
 },
 "nbformat": 4,
 "nbformat_minor": 2
}
