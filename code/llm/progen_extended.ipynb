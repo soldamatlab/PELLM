{
 "cells": [
  {
   "cell_type": "code",
   "execution_count": null,
   "metadata": {},
   "outputs": [],
   "source": [
    "%load_ext autoreload\n",
    "%autoreload 2\n",
    "\n",
    "import torch\n",
    "\n",
    "#from lib.model.progen.init_model import init_model\n",
    "from lib.model.progen.extended.init_model import init_model\n",
    "from lib.model.train import train\n",
    "from lib.model.progen.init_tokenizer import init_tokenizer\n",
    "from lib.data.datasets.GB1 import get_GB1_dataset"
   ]
  },
  {
   "cell_type": "markdown",
   "metadata": {},
   "source": [
    "Device"
   ]
  },
  {
   "cell_type": "code",
   "execution_count": 4,
   "metadata": {},
   "outputs": [],
   "source": [
    "device = torch.device(\"cuda\" if torch.cuda.is_available() else \"cpu\")"
   ]
  },
  {
   "cell_type": "markdown",
   "metadata": {},
   "source": [
    "Tokenizer"
   ]
  },
  {
   "cell_type": "code",
   "execution_count": 5,
   "metadata": {},
   "outputs": [],
   "source": [
    "tokenizer = init_tokenizer()\n",
    "tokenize = lambda sequence: torch.tensor(tokenizer.encode(sequence).ids)"
   ]
  },
  {
   "cell_type": "markdown",
   "metadata": {},
   "source": [
    "Model"
   ]
  },
  {
   "cell_type": "code",
   "execution_count": 6,
   "metadata": {},
   "outputs": [
    {
     "name": "stdout",
     "output_type": "stream",
     "text": [
      "loading model state dict from file \"s:\\Documents\\master\\code\\llm/models/progen_extended_0.pt\"\n"
     ]
    }
   ],
   "source": [
    "# model = init_model(device=device)\n",
    "model = init_model(device=device, state_dict_path=\"/models/progen_extended_0.pt\")"
   ]
  },
  {
   "cell_type": "code",
   "execution_count": null,
   "metadata": {},
   "outputs": [],
   "source": [
    "print([param for param in model.parameters()])"
   ]
  },
  {
   "cell_type": "markdown",
   "metadata": {},
   "source": [
    "Save / Load model states"
   ]
  },
  {
   "cell_type": "code",
   "execution_count": 17,
   "metadata": {},
   "outputs": [],
   "source": [
    "import os"
   ]
  },
  {
   "cell_type": "code",
   "execution_count": 23,
   "metadata": {},
   "outputs": [],
   "source": [
    "MODEL_PATH = os.getcwd() + \"/models/progen_extended_0.pt\""
   ]
  },
  {
   "cell_type": "code",
   "execution_count": 24,
   "metadata": {},
   "outputs": [],
   "source": [
    "#torch.save(model, MODEL_PATH)\n",
    "\n",
    "torch.save(model.state_dict(), MODEL_PATH)"
   ]
  },
  {
   "cell_type": "code",
   "execution_count": null,
   "metadata": {},
   "outputs": [],
   "source": [
    "#model = torch.load(MODEL_PATH)\n",
    "\n",
    "# ! init the model first\n",
    "model.load_state_dict(torch.load(MODEL_PATH))"
   ]
  },
  {
   "cell_type": "markdown",
   "metadata": {},
   "source": [
    "Data"
   ]
  },
  {
   "cell_type": "code",
   "execution_count": 34,
   "metadata": {},
   "outputs": [
    {
     "name": "stderr",
     "output_type": "stream",
     "text": [
      "s:\\Documents\\master\\ProGen\\progen\\progen2\\.venv\\lib\\site-packages\\openpyxl\\worksheet\\_reader.py:329: UserWarning: Unknown extension is not supported and will be removed\n",
      "  warn(msg)\n"
     ]
    }
   ],
   "source": [
    "TEST_SPLIT = 0.1\n",
    "\n",
    "tokenize = lambda sequence: tokenizer.encode(sequence).ids\n",
    "\n",
    "train_sequences, train_fitnesses, test_sequences, test_fitnesses = get_GB1_dataset(\n",
    "    tokenize=tokenize,\n",
    "    test_split=TEST_SPLIT,\n",
    "    device=device,\n",
    ")"
   ]
  },
  {
   "cell_type": "code",
   "execution_count": 35,
   "metadata": {},
   "outputs": [],
   "source": [
    "N_DATA = 100\n",
    "\n",
    "n_train = int(N_DATA * (1-TEST_SPLIT))\n",
    "n_test = int(N_DATA * TEST_SPLIT)\n",
    "train_sequences = train_sequences[0:n_train]\n",
    "train_fitnesses = train_fitnesses[0:n_train]\n",
    "test_sequences = test_sequences[0:n_test]\n",
    "test_fitnesses = test_fitnesses[0:n_test]"
   ]
  },
  {
   "cell_type": "markdown",
   "metadata": {},
   "source": [
    "Train"
   ]
  },
  {
   "cell_type": "code",
   "execution_count": 49,
   "metadata": {},
   "outputs": [
    {
     "name": "stderr",
     "output_type": "stream",
     "text": [
      "s:\\Documents\\master\\code\\llm\\lib\\model\\train.py:19: UserWarning: To copy construct from a tensor, it is recommended to use sourceTensor.clone().detach() or sourceTensor.clone().detach().requires_grad_(True), rather than torch.tensor(sourceTensor).\n",
      "  train_labels = torch.tensor(train_labels).to(device)\n",
      "s:\\Documents\\master\\code\\llm\\lib\\model\\train.py:21: UserWarning: To copy construct from a tensor, it is recommended to use sourceTensor.clone().detach() or sourceTensor.clone().detach().requires_grad_(True), rather than torch.tensor(sourceTensor).\n",
      "  test_labels = torch.tensor(test_labels).to(device)\n"
     ]
    },
    {
     "name": "stdout",
     "output_type": "stream",
     "text": [
      "mean test-data loss = 2.677964925765991\n",
      "Epoch 1, batch 1: mean test-data loss = 1.2520331144332886\n",
      "Epoch 1, batch 2: mean test-data loss = 1.0437884330749512\n",
      "Epoch 1, batch 3: mean test-data loss = 0.5365176200866699\n",
      "Epoch 1, batch 4: mean test-data loss = 0.5154218077659607\n",
      "Epoch 1, batch 5: mean test-data loss = 0.4590281546115875\n",
      "Epoch 1, batch 6: mean test-data loss = 0.3880387246608734\n",
      "Epoch 1, batch 7: mean test-data loss = 0.42197200655937195\n",
      "Epoch 1, batch 8: mean test-data loss = 0.6598121523857117\n",
      "Epoch 1, batch 9: mean test-data loss = 0.19603705406188965\n"
     ]
    }
   ],
   "source": [
    "loss_history = train(\n",
    "    model=model,\n",
    "    device=device,\n",
    "    train_data=train_sequences,\n",
    "    train_labels=train_fitnesses,\n",
    "    test_data=test_sequences,\n",
    "    test_labels=test_fitnesses,\n",
    "    loss_function=torch.nn.functional.l1_loss,\n",
    "    batch_size=11,\n",
    "    learning_rate=1e-3,\n",
    "    n_epochs=1,\n",
    ")"
   ]
  },
  {
   "cell_type": "markdown",
   "metadata": {},
   "source": [
    "Results"
   ]
  },
  {
   "cell_type": "markdown",
   "metadata": {},
   "source": [
    "Trained 0.9 data, tested on 0.1 data, shuffled\n",
    "\n",
    "mean test loss = 1.2047\n",
    "mean test loss = 0.3296"
   ]
  },
  {
   "cell_type": "markdown",
   "metadata": {},
   "source": [
    "Trained on batches of size 1, tested on 0.1 data, shuffled\n",
    "\n",
    "mean test-data loss = 2.927136182785034\n",
    "s:\\Documents\\master\\code\\llm\\lib\\model\\train.py:44: UserWarning: Using a target size (torch.Size([])) that is different to the input size (torch.Size([1])). This will likely lead to incorrect results due to broadcasting. Please ensure they have the same size.\n",
    "  loss = loss_function(output, label)\n",
    "mean test-data loss = 1.0202242136001587\n",
    "Epoch 1:mean test-data loss = 0.7981275320053101\n",
    "Epoch 2:mean test-data loss = 0.8598976135253906\n",
    "Epoch 3:mean test-data loss = 0.8339541554450989\n",
    "Epoch 4:mean test-data loss = 0.2656804621219635\n",
    "Epoch 5:mean test-data loss = 0.22678536176681519\n",
    "Epoch 6:mean test-data loss = 0.7484277486801147\n",
    "Epoch 7:mean test-data loss = 0.7273379564285278\n",
    "Epoch 8:mean test-data loss = 0.20019400119781494\n",
    "Epoch 9:mean test-data loss = 0.2083941400051117\n",
    "Epoch 10:mean test-data loss = 0.49960991740226746\n",
    "Epoch 11:mean test-data loss = 0.4153096675872803\n",
    "Epoch 12:mean test-data loss = 0.30266302824020386\n",
    "Epoch 13:mean test-data loss = 0.3114781379699707\n",
    "Epoch 14:mean test-data loss = 0.29903849959373474\n",
    "Epoch 15:mean test-data loss = 0.2538512945175171\n",
    "Epoch 16:mean test-data loss = 0.4101998507976532\n",
    "Epoch 17:mean test-data loss = 0.41078630089759827\n",
    "Epoch 18:mean test-data loss = 0.2096560150384903\n",
    "Epoch 19:mean test-data loss = 0.19284088909626007\n",
    "Epoch 20:mean test-data loss = 0.4778718650341034\n",
    "Epoch 21:mean test-data loss = 0.4716760814189911\n",
    "Epoch 22:mean test-data loss = 0.18762770295143127\n",
    "Epoch 23:mean test-data loss = 0.8848859071731567\n",
    "Epoch 24:mean test-data loss = 1.1906050443649292\n",
    "Epoch 25:mean test-data loss = 1.0409295558929443\n",
    "Epoch 26:mean test-data loss = 0.4904017448425293\n",
    "Epoch 27:mean test-data loss = 0.5127981901168823\n",
    "Epoch 28:mean test-data loss = 0.8855107426643372\n",
    "Epoch 29:mean test-data loss = 0.8350266218185425"
   ]
  },
  {
   "cell_type": "markdown",
   "metadata": {},
   "source": [
    "Train Progen Extended"
   ]
  },
  {
   "cell_type": "code",
   "execution_count": 1,
   "metadata": {},
   "outputs": [
    {
     "name": "stderr",
     "output_type": "stream",
     "text": [
      "s:\\Documents\\master\\ProGen\\progen\\progen2\\.venv\\lib\\site-packages\\tqdm\\auto.py:21: TqdmWarning: IProgress not found. Please update jupyter and ipywidgets. See https://ipywidgets.readthedocs.io/en/stable/user_install.html\n",
      "  from .autonotebook import tqdm as notebook_tqdm\n"
     ]
    }
   ],
   "source": [
    "%load_ext autoreload\n",
    "%autoreload 2\n",
    "\n",
    "from progen_extended import train_progen_extended"
   ]
  },
  {
   "cell_type": "code",
   "execution_count": 4,
   "metadata": {},
   "outputs": [
    {
     "name": "stdout",
     "output_type": "stream",
     "text": [
      "Connecting to device\n",
      "Loading tokenizer\n",
      "Loading GB1 data\n"
     ]
    },
    {
     "name": "stderr",
     "output_type": "stream",
     "text": [
      "s:\\Documents\\master\\ProGen\\progen\\progen2\\.venv\\lib\\site-packages\\openpyxl\\worksheet\\_reader.py:329: UserWarning: Unknown extension is not supported and will be removed\n",
      "  warn(msg)\n"
     ]
    },
    {
     "name": "stdout",
     "output_type": "stream",
     "text": [
      "Initializing model\n",
      "loading model state dict from file \"s:\\Documents\\master\\code\\llm/models/progen_extended_0.pt\"\n",
      "Training\n",
      "mean test-data loss = 0.46532678604125977\n",
      "Epoch 1, batch 1: mean test-data loss = 3.4739997386932373\n",
      "saving model state dict to file \"s:\\Documents\\master\\code\\llm/models/progen_extended_tmp.pt\"\n",
      "saving \"loss_history \"to file \"s:\\Documents\\master\\code\\llm/models/progen_extended_tmp_history.pt\"\n"
     ]
    }
   ],
   "source": [
    "loss_history = train_progen_extended(\n",
    "    state_dict_path=\"/models/progen_extended_0.pt\",\n",
    "    save_state_dict=\"/models/progen_extended_tmp.pt\",\n",
    "    save_history=\"/models/progen_extended_tmp_history.pt\",\n",
    ")"
   ]
  }
 ],
 "metadata": {
  "kernelspec": {
   "display_name": ".venv",
   "language": "python",
   "name": "python3"
  },
  "language_info": {
   "codemirror_mode": {
    "name": "ipython",
    "version": 3
   },
   "file_extension": ".py",
   "mimetype": "text/x-python",
   "name": "python",
   "nbconvert_exporter": "python",
   "pygments_lexer": "ipython3",
   "version": "3.8.0"
  }
 },
 "nbformat": 4,
 "nbformat_minor": 2
}
