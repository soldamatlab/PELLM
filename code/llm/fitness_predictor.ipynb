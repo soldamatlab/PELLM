{
 "cells": [
  {
   "cell_type": "code",
   "execution_count": 1,
   "metadata": {},
   "outputs": [
    {
     "name": "stderr",
     "output_type": "stream",
     "text": [
      "s:\\Documents\\master\\.venv\\Lib\\site-packages\\tqdm\\auto.py:21: TqdmWarning: IProgress not found. Please update jupyter and ipywidgets. See https://ipywidgets.readthedocs.io/en/stable/user_install.html\n",
      "  from .autonotebook import tqdm as notebook_tqdm\n"
     ]
    }
   ],
   "source": [
    "%load_ext autoreload\n",
    "%autoreload 2\n",
    "\n",
    "import torch\n",
    "\n",
    "from lib.model.single_layer.SingleLayer import SingleLayer\n",
    "from lib.model.single_layer.TwoLayer import TwoLayer\n",
    "from lib.model.single_layer.init_model import init_model\n",
    "from fitness_predictor import train_predictor\n",
    "from lib.data.data import resample_uniform\n",
    "from lib.utils.metric import get_outputs, pair_ranking_accuracy, treshold_discrimination"
   ]
  },
  {
   "cell_type": "markdown",
   "metadata": {},
   "source": [
    "Trained model sandbox"
   ]
  },
  {
   "cell_type": "code",
   "execution_count": 2,
   "metadata": {},
   "outputs": [
    {
     "name": "stdout",
     "output_type": "stream",
     "text": [
      "loading model state dict from file \"S:\\Documents\\master\\code\\de\\data\\mlde_384_01\\TwoLayerPreceptron_state_dict.pt\"\n"
     ]
    }
   ],
   "source": [
    "model = init_model(\n",
    "    #model = SingleLayer,\n",
    "    model = TwoLayer,\n",
    "\n",
    "    activation_function=torch.nn.Sigmoid(),\n",
    "    #activation_function=torch.nn.LeakyReLU(),\n",
    "    #activation_function=torch.nn.Identity(),\n",
    "\n",
    "    embedding_size=1280, # ESM-1b\n",
    "    #embedding_size=1024, # Progen2\n",
    "    \n",
    "    state_dict_path=\"S:\\Documents\\master\\code\\de\\data\\mlde_384_01\\TwoLayerPreceptron_state_dict.pt\",\n",
    "    #state_dict_path=\"/models/two_layer_esm-1b/two_layer_esm-1b_sigmoid_03.pt\",\n",
    "    #state_dict_path=\"/models/two_layer_esm-1b/two_layer_esm-1b_identity_01.pt\",\n",
    "    #state_dict_path=\"/models/single_layer_esm-1b/single_layer_esm-1b_sigmoid_01.pt\",\n",
    "    #state_dict_path=\"/models/single_layer_esm-1b/single_layer_esm-1b_identity_01.pt\",\n",
    "    #state_dict_path=\"/models/two_layer_progen2/two_layer_progen2_sigmoid_02.pt\",\n",
    "    #state_dict_path=\"/models/single_layer/single_layer_sigmoid_04.pt\",\n",
    "    #state_dict_path=\"/models/single_layer/single_layer_leakyRELU_01.pt\",\n",
    "    #state_dict_path=\"/models/single_layer/single_layer_identity_02.pt\",\n",
    "    #state_dict_path=None,\n",
    "\n",
    "    absolute_path=True,\n",
    ")"
   ]
  },
  {
   "cell_type": "code",
   "execution_count": 77,
   "metadata": {},
   "outputs": [
    {
     "data": {
      "text/plain": [
       "{'loss_function': <function torch.nn.functional.l1_loss(input: torch.Tensor, target: torch.Tensor, size_average: Optional[bool] = None, reduce: Optional[bool] = None, reduction: str = 'mean') -> torch.Tensor>,\n",
       " 'learning_rate': 0.0001,\n",
       " 'batch_size': 100,\n",
       " 'n_epochs': 1,\n",
       " 'evaluation_period': 1,\n",
       " 'test_split': None,\n",
       " 'train_variants': array(['LWAA', 'WWCA', 'WWFV', 'VWAA', 'WWLC', 'YYAA', 'FWCA', 'WWLT',\n",
       "        'FWLG', 'VAAA', 'WYCA', 'AWCA', 'FWAG', 'FYAA', 'FFAA', 'IWCA',\n",
       "        'FYAG', 'FWAA', 'ANCA', 'WWLG', 'LWCA', 'WWMA', 'AYCA', 'IWAA',\n",
       "        'WWLA', 'WWFG', 'LWLG'], dtype=object),\n",
       " 'test_variants': array(['LWAA', 'WWCA', 'WWFV', 'VWAA', 'WWLC', 'YYAA', 'FWCA', 'WWLT',\n",
       "        'FWLG', 'VAAA', 'WYCA', 'AWCA', 'FWAG', 'FYAA', 'FFAA', 'IWCA',\n",
       "        'FYAG', 'FWAA', 'ANCA', 'WWLG', 'LWCA', 'WWMA', 'AYCA', 'IWAA',\n",
       "        'WWLA', 'WWFG', 'LWLG'], dtype=object),\n",
       " 'train_time': 11.208126068115234,\n",
       " 'loss_history': tensor([[0.2411],\n",
       "         [0.1733]])}"
      ]
     },
     "execution_count": 77,
     "metadata": {},
     "output_type": "execute_result"
    }
   ],
   "source": [
    "info = torch.load(\"./models/two_layer_esm-1b/two_layer_esm-1b_sigmoid_04_info.pt\")\n",
    "info"
   ]
  },
  {
   "cell_type": "code",
   "execution_count": 4,
   "metadata": {},
   "outputs": [
    {
     "data": {
      "text/plain": [
       "[Parameter containing:\n",
       " tensor([[-0.0197, -0.0138,  0.0139,  ...,  0.0046,  0.0184, -0.0109],\n",
       "         [ 0.0169,  0.0236,  0.0159,  ...,  0.0138, -0.0056, -0.0084],\n",
       "         [ 0.0162, -0.0242, -0.0013,  ...,  0.0231, -0.0035, -0.0083],\n",
       "         ...,\n",
       "         [-0.0260,  0.0282, -0.0156,  ..., -0.0270,  0.0010,  0.0215],\n",
       "         [-0.0230,  0.0176,  0.0214,  ..., -0.0215,  0.0241,  0.0191],\n",
       "         [-0.0202,  0.0271,  0.0255,  ...,  0.0073, -0.0050, -0.0253]],\n",
       "        requires_grad=True),\n",
       " Parameter containing:\n",
       " tensor([[-0.0072, -0.0153,  0.0191,  ..., -0.0040,  0.0061, -0.0029]],\n",
       "        requires_grad=True),\n",
       " Parameter containing:\n",
       " tensor([-0.0121], requires_grad=True)]"
      ]
     },
     "execution_count": 4,
     "metadata": {},
     "output_type": "execute_result"
    }
   ],
   "source": [
    "list(model.parameters())"
   ]
  },
  {
   "cell_type": "code",
   "execution_count": 3,
   "metadata": {},
   "outputs": [],
   "source": [
    "embedding = torch.load(\"./../../data/GB1/progen2_embedding.pt\")"
   ]
  },
  {
   "cell_type": "code",
   "execution_count": 26,
   "metadata": {},
   "outputs": [],
   "source": [
    "embedding = torch.load(\"./../../data/GB1/esm-1b_embedding.pt\")"
   ]
  },
  {
   "cell_type": "code",
   "execution_count": 4,
   "metadata": {},
   "outputs": [],
   "source": [
    "df = torch.load(\"./../../data/GB1/progen2_dataframe.pt\")"
   ]
  },
  {
   "cell_type": "code",
   "execution_count": 3,
   "metadata": {},
   "outputs": [],
   "source": [
    "df = torch.load(\"./../../data/GB1/esm-1b_dataframe.pt\")"
   ]
  },
  {
   "cell_type": "code",
   "execution_count": 4,
   "metadata": {},
   "outputs": [
    {
     "name": "stdout",
     "output_type": "stream",
     "text": [
      "149361\n"
     ]
    }
   ],
   "source": [
    "dfa = df.loc[df[\"Fitness\"] >= 0.0]\n",
    "embedding = torch.stack(tuple(dfa[\"Embedding\"].values))\n",
    "fitness_norm = dfa[\"Fitness_norm\"].values\n",
    "print(len(fitness_norm))"
   ]
  },
  {
   "cell_type": "code",
   "execution_count": 6,
   "metadata": {},
   "outputs": [],
   "source": [
    "dfa[\"Prediction\"] = pred\n",
    "dfa = dfa.sort_values(\"Prediction\", ascending=False)"
   ]
  },
  {
   "cell_type": "code",
   "execution_count": null,
   "metadata": {},
   "outputs": [],
   "source": [
    "dfa = df.loc[df[\"Fitness\"] >= 0.0]\n",
    "embedding = torch.stack(tuple(dfa[\"Embedding\"].values))\n",
    "fitness_norm = dfa[\"Fitness_norm\"].values\n",
    "print(len(fitness_norm))\n",
    "outputs = get_outputs(model, embedding).detach().numpy()\n",
    "\n",
    "dfa[\"Prediction\"] = outputs\n",
    "dfa = dfa.sort_values(\"Prediction\", ascending=False)"
   ]
  },
  {
   "cell_type": "code",
   "execution_count": 7,
   "metadata": {},
   "outputs": [
    {
     "data": {
      "text/plain": [
       "0.21799160264058645"
      ]
     },
     "execution_count": 7,
     "metadata": {},
     "output_type": "execute_result"
    }
   ],
   "source": [
    "top_k = dfa[0:10]\n",
    "#top_k[\"Fitness_norm\"].sort_values(ascending=False).values\n",
    "top_k[\"Fitness_norm\"].values.max()"
   ]
  },
  {
   "cell_type": "code",
   "execution_count": 8,
   "metadata": {},
   "outputs": [
    {
     "data": {
      "text/plain": [
       "[<matplotlib.lines.Line2D at 0x267a0914f10>]"
      ]
     },
     "execution_count": 8,
     "metadata": {},
     "output_type": "execute_result"
    },
    {
     "data": {
      "image/png": "[encoded data removed]",
      "text/plain": [
       "<Figure size 640x480 with 1 Axes>"
      ]
     },
     "metadata": {},
     "output_type": "display_data"
    }
   ],
   "source": [
    "import matplotlib.pyplot as plt\n",
    "dfa = dfa.sort_values(\"Fitness_norm\", ascending=False)\n",
    "plt.plot(dfa[\"Fitness_norm\"].values, dfa[\"Prediction\"].values, '. ')"
   ]
  },
  {
   "cell_type": "code",
   "execution_count": null,
   "metadata": {},
   "outputs": [],
   "source": [
    "pair_ranking_accuracy(outputs, fitness_norm)"
   ]
  },
  {
   "cell_type": "code",
   "execution_count": 12,
   "metadata": {},
   "outputs": [
    {
     "data": {
      "text/plain": [
       "0.5061830062733913"
      ]
     },
     "execution_count": 12,
     "metadata": {},
     "output_type": "execute_result"
    }
   ],
   "source": [
    "# 1.0 -> 0.1141296416002635 (normalized)\n",
    "treshold_discrimination(outputs, fitness_norm, 0.00765)"
   ]
  },
  {
   "cell_type": "code",
   "execution_count": 5,
   "metadata": {},
   "outputs": [
    {
     "data": {
      "text/plain": [
       "torch.Size([3644, 1280])"
      ]
     },
     "execution_count": 5,
     "metadata": {},
     "output_type": "execute_result"
    }
   ],
   "source": [
    "dff = df.loc[df[\"Fitness\"] >= 1.0]\n",
    "embedding = torch.stack(tuple(dff[\"Embedding\"].values))\n",
    "fitness = dff[\"Fitness\"].values\n",
    "embedding.size()\n"
   ]
  },
  {
   "cell_type": "code",
   "execution_count": 5,
   "metadata": {},
   "outputs": [],
   "source": [
    "predictions = torch.empty(len(embedding))\n",
    "for emb in range(len(embedding)):\n",
    "    predictions[emb] = model(embedding[emb])\n",
    "pred = predictions.clone().detach().numpy()"
   ]
  },
  {
   "cell_type": "code",
   "execution_count": 7,
   "metadata": {},
   "outputs": [
    {
     "data": {
      "text/plain": [
       "Text(0.5, 1.0, 'Fitness distribution')"
      ]
     },
     "execution_count": 7,
     "metadata": {},
     "output_type": "execute_result"
    },
    {
     "data": {
      "image/png": "[encoded data removed]",
      "text/plain": [
       "<Figure size 640x480 with 1 Axes>"
      ]
     },
     "metadata": {},
     "output_type": "display_data"
    }
   ],
   "source": [
    "import matplotlib.pyplot as plt\n",
    "\n",
    "n_bins = 10\n",
    "plt.hist(\n",
    "    pred,\n",
    "    n_bins,\n",
    "    #range=(0.0, 1.0),\n",
    ")\n",
    "#plt.xlim([0, 1])\n",
    "plt.xlabel(\"Fitness\")\n",
    "plt.ylabel(\"Number of variants\")\n",
    "plt.title(\"Fitness distribution\")"
   ]
  },
  {
   "cell_type": "code",
   "execution_count": 8,
   "metadata": {},
   "outputs": [],
   "source": [
    "#fitness_norm = torch.load(\"./../../data/GB1/progen2_fitness_norm.pt\")\n",
    "df = torch.load(\"./../../data/GB1/progen2_dataframe.pt\")"
   ]
  },
  {
   "cell_type": "code",
   "execution_count": 157,
   "metadata": {},
   "outputs": [
    {
     "data": {
      "text/plain": [
       "0.1141296416002635"
      ]
     },
     "execution_count": 157,
     "metadata": {},
     "output_type": "execute_result"
    }
   ],
   "source": [
    "df.loc[df[\"Fitness\"] == 1.0][\"Fitness_norm\"].values[0]"
   ]
  },
  {
   "cell_type": "code",
   "execution_count": 9,
   "metadata": {},
   "outputs": [
    {
     "data": {
      "text/plain": [
       "3644"
      ]
     },
     "execution_count": 9,
     "metadata": {},
     "output_type": "execute_result"
    }
   ],
   "source": [
    "from lib.data.data import resample_uniform\n",
    "\n",
    "fvals = resample_uniform(df, bins=[1.0, max(df[\"Fitness\"])])\n",
    "fvals = fvals.Fitness_norm.values\n",
    "fvals.size"
   ]
  },
  {
   "cell_type": "code",
   "execution_count": 10,
   "metadata": {},
   "outputs": [
    {
     "data": {
      "text/plain": [
       "0.2549202310863438"
      ]
     },
     "execution_count": 10,
     "metadata": {},
     "output_type": "execute_result"
    }
   ],
   "source": [
    "fvals.mean()"
   ]
  },
  {
   "cell_type": "code",
   "execution_count": 11,
   "metadata": {},
   "outputs": [
    {
     "data": {
      "text/plain": [
       "Text(0.5, 1.0, 'Fitness distribution')"
      ]
     },
     "execution_count": 11,
     "metadata": {},
     "output_type": "execute_result"
    },
    {
     "data": {
      "image/png": "[encoded data removed]",
      "text/plain": [
       "<Figure size 640x480 with 1 Axes>"
      ]
     },
     "metadata": {},
     "output_type": "display_data"
    }
   ],
   "source": [
    "import matplotlib.pyplot as plt\n",
    "\n",
    "n_bins = 20\n",
    "plt.hist(\n",
    "    fvals,\n",
    "    n_bins,\n",
    ")\n",
    "plt.xlim([0, 1])\n",
    "plt.xlabel(\"Fitness\")\n",
    "plt.ylabel(\"Number of variants\")\n",
    "plt.title(\"Fitness distribution\")"
   ]
  },
  {
   "cell_type": "code",
   "execution_count": 9,
   "metadata": {},
   "outputs": [
    {
     "data": {
      "text/html": [
       "<div>\n",
       "<style scoped>\n",
       "    .dataframe tbody tr th:only-of-type {\n",
       "        vertical-align: middle;\n",
       "    }\n",
       "\n",
       "    .dataframe tbody tr th {\n",
       "        vertical-align: top;\n",
       "    }\n",
       "\n",
       "    .dataframe thead th {\n",
       "        text-align: right;\n",
       "    }\n",
       "</style>\n",
       "<table border=\"1\" class=\"dataframe\">\n",
       "  <thead>\n",
       "    <tr style=\"text-align: right;\">\n",
       "      <th></th>\n",
       "      <th>Variants</th>\n",
       "      <th>Fitness</th>\n",
       "      <th>Fitness_norm</th>\n",
       "      <th>Sequences</th>\n",
       "      <th>Embedding</th>\n",
       "    </tr>\n",
       "  </thead>\n",
       "  <tbody>\n",
       "    <tr>\n",
       "      <th>36579</th>\n",
       "      <td>FYAA</td>\n",
       "      <td>8.045152</td>\n",
       "      <td>0.91819</td>\n",
       "      <td>[tensor(16), tensor(20), tensor(28), tensor(14...</td>\n",
       "      <td>[tensor(3.9249), tensor(-6.1882), tensor(4.781...</td>\n",
       "    </tr>\n",
       "    <tr>\n",
       "      <th>99291</th>\n",
       "      <td>FWAA</td>\n",
       "      <td>8.761966</td>\n",
       "      <td>1.00000</td>\n",
       "      <td>[tensor(16), tensor(20), tensor(28), tensor(14...</td>\n",
       "      <td>[tensor(3.9575), tensor(-6.2317), tensor(4.770...</td>\n",
       "    </tr>\n",
       "  </tbody>\n",
       "</table>\n",
       "</div>"
      ],
      "text/plain": [
       "      Variants   Fitness  Fitness_norm  \\\n",
       "36579     FYAA  8.045152       0.91819   \n",
       "99291     FWAA  8.761966       1.00000   \n",
       "\n",
       "                                               Sequences  \\\n",
       "36579  [tensor(16), tensor(20), tensor(28), tensor(14...   \n",
       "99291  [tensor(16), tensor(20), tensor(28), tensor(14...   \n",
       "\n",
       "                                               Embedding  \n",
       "36579  [tensor(3.9249), tensor(-6.1882), tensor(4.781...  \n",
       "99291  [tensor(3.9575), tensor(-6.2317), tensor(4.770...  "
      ]
     },
     "execution_count": 9,
     "metadata": {},
     "output_type": "execute_result"
    }
   ],
   "source": [
    "dff = df.loc[df[\"Fitness_norm\"] >= 0.9]\n",
    "dff\n",
    "#out = model(dff.Embedding.values[0])\n",
    "#out"
   ]
  },
  {
   "cell_type": "code",
   "execution_count": 10,
   "metadata": {},
   "outputs": [],
   "source": [
    "dff = resample_uniform(df, bins=[1.0, max(df[\"Fitness\"])])\n",
    "prediction = torch.empty(len(dff))\n",
    "tf = torch.empty(len(dff))\n",
    "i = 0\n",
    "for index, row in dff.iterrows():\n",
    "    prediction[i] = model(row['Embedding'])\n",
    "    tf[i] = row['Fitness_norm']\n",
    "    i = i + 1\n",
    "\n",
    "prediction = prediction.clone().detach().numpy()\n",
    "#tf = tf.clone().detach().numpy()\n",
    "#prediction = [p for p in prediction]\n",
    "#tf = [f for f in tf]"
   ]
  },
  {
   "cell_type": "code",
   "execution_count": 11,
   "metadata": {},
   "outputs": [
    {
     "data": {
      "text/plain": [
       "Text(0, 0.5, 'Predicted fitness')"
      ]
     },
     "execution_count": 11,
     "metadata": {},
     "output_type": "execute_result"
    },
    {
     "data": {
      "image/png": "[encoded data removed]",
      "text/plain": [
       "<Figure size 640x480 with 1 Axes>"
      ]
     },
     "metadata": {},
     "output_type": "display_data"
    }
   ],
   "source": [
    "import matplotlib.pyplot as plt\n",
    "\n",
    "plt.scatter(tf, prediction)\n",
    "#plt.xlim([0, 1])\n",
    "plt.xlabel(\"True fitness\")\n",
    "plt.ylabel(\"Predicted fitness\")"
   ]
  },
  {
   "cell_type": "code",
   "execution_count": 15,
   "metadata": {},
   "outputs": [
    {
     "data": {
      "text/plain": [
       "torch.Size([100])"
      ]
     },
     "execution_count": 15,
     "metadata": {},
     "output_type": "execute_result"
    }
   ],
   "source": [
    "from lib.functional.wieghted_l1_loss import weighted_l1_Loss\n",
    "\n",
    "i = torch.ones(100) * 2.\n",
    "t = torch.ones(100) * 3.\n",
    "\n",
    "loss = weighted_l1_Loss()\n",
    "loss(input=i, target=t).size()\n"
   ]
  },
  {
   "cell_type": "markdown",
   "metadata": {},
   "source": [
    "Save as .csv file"
   ]
  },
  {
   "cell_type": "code",
   "execution_count": 4,
   "metadata": {},
   "outputs": [],
   "source": [
    "import pandas"
   ]
  },
  {
   "cell_type": "code",
   "execution_count": 66,
   "metadata": {},
   "outputs": [],
   "source": [
    "pandas.DataFrame(embedding).to_csv(\"../../data/GB1/GB1_ESM-1b.csv\", index=False)"
   ]
  },
  {
   "cell_type": "markdown",
   "metadata": {},
   "source": [
    "Test"
   ]
  },
  {
   "cell_type": "code",
   "execution_count": 3,
   "metadata": {},
   "outputs": [
    {
     "data": {
      "text/html": [
       "<div>\n",
       "<style scoped>\n",
       "    .dataframe tbody tr th:only-of-type {\n",
       "        vertical-align: middle;\n",
       "    }\n",
       "\n",
       "    .dataframe tbody tr th {\n",
       "        vertical-align: top;\n",
       "    }\n",
       "\n",
       "    .dataframe thead th {\n",
       "        text-align: right;\n",
       "    }\n",
       "</style>\n",
       "<table border=\"1\" class=\"dataframe\">\n",
       "  <thead>\n",
       "    <tr style=\"text-align: right;\">\n",
       "      <th></th>\n",
       "      <th>Variants</th>\n",
       "      <th>Fitness</th>\n",
       "      <th>Fitness_norm</th>\n",
       "      <th>Sequences</th>\n",
       "      <th>Embedding</th>\n",
       "    </tr>\n",
       "  </thead>\n",
       "  <tbody>\n",
       "    <tr>\n",
       "      <th>0</th>\n",
       "      <td>PMHE</td>\n",
       "      <td>0.000000</td>\n",
       "      <td>0.000000</td>\n",
       "      <td>[tensor(0), tensor(20), tensor(16), tensor(19)...</td>\n",
       "      <td>[tensor(-0.0160), tensor(0.1180), tensor(-0.06...</td>\n",
       "    </tr>\n",
       "    <tr>\n",
       "      <th>1</th>\n",
       "      <td>CSCP</td>\n",
       "      <td>0.009092</td>\n",
       "      <td>0.001038</td>\n",
       "      <td>[tensor(0), tensor(20), tensor(16), tensor(19)...</td>\n",
       "      <td>[tensor(-0.0208), tensor(0.1096), tensor(-0.02...</td>\n",
       "    </tr>\n",
       "    <tr>\n",
       "      <th>2</th>\n",
       "      <td>HEGK</td>\n",
       "      <td>0.005014</td>\n",
       "      <td>0.000572</td>\n",
       "      <td>[tensor(0), tensor(20), tensor(16), tensor(19)...</td>\n",
       "      <td>[tensor(-0.0167), tensor(0.1268), tensor(-0.03...</td>\n",
       "    </tr>\n",
       "    <tr>\n",
       "      <th>3</th>\n",
       "      <td>RFIL</td>\n",
       "      <td>0.003018</td>\n",
       "      <td>0.000344</td>\n",
       "      <td>[tensor(0), tensor(20), tensor(16), tensor(19)...</td>\n",
       "      <td>[tensor(-0.0248), tensor(0.1246), tensor(-0.02...</td>\n",
       "    </tr>\n",
       "    <tr>\n",
       "      <th>4</th>\n",
       "      <td>TQTN</td>\n",
       "      <td>0.000000</td>\n",
       "      <td>0.000000</td>\n",
       "      <td>[tensor(0), tensor(20), tensor(16), tensor(19)...</td>\n",
       "      <td>[tensor(0.0249), tensor(0.1418), tensor(-0.020...</td>\n",
       "    </tr>\n",
       "    <tr>\n",
       "      <th>...</th>\n",
       "      <td>...</td>\n",
       "      <td>...</td>\n",
       "      <td>...</td>\n",
       "      <td>...</td>\n",
       "      <td>...</td>\n",
       "    </tr>\n",
       "    <tr>\n",
       "      <th>149356</th>\n",
       "      <td>SGFE</td>\n",
       "      <td>0.002655</td>\n",
       "      <td>0.000303</td>\n",
       "      <td>[tensor(0), tensor(20), tensor(16), tensor(19)...</td>\n",
       "      <td>[tensor(-0.0233), tensor(0.1174), tensor(-0.04...</td>\n",
       "    </tr>\n",
       "    <tr>\n",
       "      <th>149357</th>\n",
       "      <td>IRIF</td>\n",
       "      <td>0.001638</td>\n",
       "      <td>0.000187</td>\n",
       "      <td>[tensor(0), tensor(20), tensor(16), tensor(19)...</td>\n",
       "      <td>[tensor(-0.0372), tensor(0.1294), tensor(-0.00...</td>\n",
       "    </tr>\n",
       "    <tr>\n",
       "      <th>149358</th>\n",
       "      <td>GHFP</td>\n",
       "      <td>0.024405</td>\n",
       "      <td>0.002785</td>\n",
       "      <td>[tensor(0), tensor(20), tensor(16), tensor(19)...</td>\n",
       "      <td>[tensor(-0.0376), tensor(0.1305), tensor(-0.04...</td>\n",
       "    </tr>\n",
       "    <tr>\n",
       "      <th>149359</th>\n",
       "      <td>LTNC</td>\n",
       "      <td>0.012200</td>\n",
       "      <td>0.001392</td>\n",
       "      <td>[tensor(0), tensor(20), tensor(16), tensor(19)...</td>\n",
       "      <td>[tensor(-0.0221), tensor(0.1299), tensor(-0.01...</td>\n",
       "    </tr>\n",
       "    <tr>\n",
       "      <th>149360</th>\n",
       "      <td>SLYV</td>\n",
       "      <td>0.002907</td>\n",
       "      <td>0.000332</td>\n",
       "      <td>[tensor(0), tensor(20), tensor(16), tensor(19)...</td>\n",
       "      <td>[tensor(-0.0210), tensor(0.1280), tensor(-0.01...</td>\n",
       "    </tr>\n",
       "  </tbody>\n",
       "</table>\n",
       "<p>149361 rows × 5 columns</p>\n",
       "</div>"
      ],
      "text/plain": [
       "       Variants   Fitness  Fitness_norm  \\\n",
       "0          PMHE  0.000000      0.000000   \n",
       "1          CSCP  0.009092      0.001038   \n",
       "2          HEGK  0.005014      0.000572   \n",
       "3          RFIL  0.003018      0.000344   \n",
       "4          TQTN  0.000000      0.000000   \n",
       "...         ...       ...           ...   \n",
       "149356     SGFE  0.002655      0.000303   \n",
       "149357     IRIF  0.001638      0.000187   \n",
       "149358     GHFP  0.024405      0.002785   \n",
       "149359     LTNC  0.012200      0.001392   \n",
       "149360     SLYV  0.002907      0.000332   \n",
       "\n",
       "                                                Sequences  \\\n",
       "0       [tensor(0), tensor(20), tensor(16), tensor(19)...   \n",
       "1       [tensor(0), tensor(20), tensor(16), tensor(19)...   \n",
       "2       [tensor(0), tensor(20), tensor(16), tensor(19)...   \n",
       "3       [tensor(0), tensor(20), tensor(16), tensor(19)...   \n",
       "4       [tensor(0), tensor(20), tensor(16), tensor(19)...   \n",
       "...                                                   ...   \n",
       "149356  [tensor(0), tensor(20), tensor(16), tensor(19)...   \n",
       "149357  [tensor(0), tensor(20), tensor(16), tensor(19)...   \n",
       "149358  [tensor(0), tensor(20), tensor(16), tensor(19)...   \n",
       "149359  [tensor(0), tensor(20), tensor(16), tensor(19)...   \n",
       "149360  [tensor(0), tensor(20), tensor(16), tensor(19)...   \n",
       "\n",
       "                                                Embedding  \n",
       "0       [tensor(-0.0160), tensor(0.1180), tensor(-0.06...  \n",
       "1       [tensor(-0.0208), tensor(0.1096), tensor(-0.02...  \n",
       "2       [tensor(-0.0167), tensor(0.1268), tensor(-0.03...  \n",
       "3       [tensor(-0.0248), tensor(0.1246), tensor(-0.02...  \n",
       "4       [tensor(0.0249), tensor(0.1418), tensor(-0.020...  \n",
       "...                                                   ...  \n",
       "149356  [tensor(-0.0233), tensor(0.1174), tensor(-0.04...  \n",
       "149357  [tensor(-0.0372), tensor(0.1294), tensor(-0.00...  \n",
       "149358  [tensor(-0.0376), tensor(0.1305), tensor(-0.04...  \n",
       "149359  [tensor(-0.0221), tensor(0.1299), tensor(-0.01...  \n",
       "149360  [tensor(-0.0210), tensor(0.1280), tensor(-0.01...  \n",
       "\n",
       "[149361 rows x 5 columns]"
      ]
     },
     "execution_count": 3,
     "metadata": {},
     "output_type": "execute_result"
    }
   ],
   "source": [
    "df"
   ]
  }
 ],
 "metadata": {
  "kernelspec": {
   "display_name": "Python 3",
   "language": "python",
   "name": "python3"
  },
  "language_info": {
   "codemirror_mode": {
    "name": "ipython",
    "version": 3
   },
   "file_extension": ".py",
   "mimetype": "text/x-python",
   "name": "python",
   "nbconvert_exporter": "python",
   "pygments_lexer": "ipython3",
   "version": "3.11.6"
  }
 },
 "nbformat": 4,
 "nbformat_minor": 2
}
