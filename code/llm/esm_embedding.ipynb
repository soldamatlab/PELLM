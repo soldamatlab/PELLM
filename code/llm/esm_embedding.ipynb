{
 "cells": [
  {
   "cell_type": "code",
   "execution_count": 2,
   "metadata": {},
   "outputs": [],
   "source": [
    "import torch\n",
    "import esm\n",
    "\n",
    "from lib.data.datasets.GB1 import get_GB1_dataset\n",
    "from lib.utils.file import save_pt_file"
   ]
  },
  {
   "cell_type": "code",
   "execution_count": 2,
   "metadata": {},
   "outputs": [],
   "source": [
    "# checkpoints are downloaded to \"C:\\Users\\Matouš/.cache\\torch\\hub\\checkpoints\\\"\n",
    "#esm2_t6_8M_UR50D #esm2_t33_650M_UR50D #esm1b_t33_650M_UR50S\n",
    "model, alphabet = esm.pretrained.esm1b_t33_650M_UR50S()\n",
    "\n",
    "batch_converter = alphabet.get_batch_converter()\n",
    "model.eval()  # disables dropout for deterministic results\n",
    "\n",
    "device = torch.device(\"cuda\" if torch.cuda.is_available() else \"cpu\")\n",
    "model = model.to(device)"
   ]
  },
  {
   "cell_type": "code",
   "execution_count": 3,
   "metadata": {},
   "outputs": [
    {
     "name": "stderr",
     "output_type": "stream",
     "text": [
      "s:\\Documents\\master\\.venv\\Lib\\site-packages\\openpyxl\\worksheet\\_reader.py:329: UserWarning: Unknown extension is not supported and will be removed\n",
      "  warn(msg)\n"
     ]
    }
   ],
   "source": [
    "sequences, fitness, variants = get_GB1_dataset(\n",
    "    return_variants=True,\n",
    ")"
   ]
  },
  {
   "cell_type": "code",
   "execution_count": 4,
   "metadata": {},
   "outputs": [],
   "source": [
    "data = []\n",
    "for s in range(len(sequences)):\n",
    "    data.append((variants[s], sequences[s]))\n",
    "variants, sequences, tokenized_sequences = batch_converter(data)\n",
    "\n",
    "tokenized_sequences = tokenized_sequences.to(device)"
   ]
  },
  {
   "cell_type": "code",
   "execution_count": 5,
   "metadata": {},
   "outputs": [
    {
     "data": {
      "text/plain": [
       "torch.Size([149361, 1280])"
      ]
     },
     "execution_count": 5,
     "metadata": {},
     "output_type": "execute_result"
    }
   ],
   "source": [
    "# Extract per-residue representations\n",
    "SEQUENCE_LENGTH = len(tokenized_sequences[0])\n",
    "EMBEDDING_LENGTH = 1280\n",
    "\n",
    "embeddings = torch.empty(\n",
    "    (len(tokenized_sequences), EMBEDDING_LENGTH), dtype=torch.float32\n",
    ")\n",
    "with torch.no_grad():\n",
    "    for s in range(len(tokenized_sequences)):\n",
    "        results = model(\n",
    "            tokenized_sequences[s : s + 1, :], repr_layers=[33], return_contacts=True\n",
    "        )\n",
    "        representation = results[\"representations\"][33]\n",
    "        representation = representation[0,1:SEQUENCE_LENGTH-1].mean(0)\n",
    "        embeddings[s, :] = representation\n",
    "\n",
    "embeddings.size()"
   ]
  },
  {
   "cell_type": "code",
   "execution_count": 6,
   "metadata": {},
   "outputs": [
    {
     "name": "stdout",
     "output_type": "stream",
     "text": [
      "saving to file \"s:\\Documents\\master\\code\\llm./../../data/GB1/esm-1b_embedding.pt\"\n"
     ]
    }
   ],
   "source": [
    "save_pt_file(\n",
    "    embeddings,\n",
    "    save_to=\"./../../data/GB1/esm-1b_embedding.pt\",\n",
    "    absolute_path=False,\n",
    ")"
   ]
  },
  {
   "cell_type": "code",
   "execution_count": 7,
   "metadata": {},
   "outputs": [
    {
     "name": "stdout",
     "output_type": "stream",
     "text": [
      "saving to file \"s:\\Documents\\master\\code\\llm./../../data/GB1/esm-1b_sequences.pt\"\n"
     ]
    }
   ],
   "source": [
    "save_pt_file(\n",
    "    tokenized_sequences,\n",
    "    save_to=\"./../../data/GB1/esm-1b_sequences.pt\",\n",
    "    absolute_path=False,\n",
    ")"
   ]
  },
  {
   "cell_type": "code",
   "execution_count": 9,
   "metadata": {},
   "outputs": [],
   "source": [
    "import pandas as pd\n",
    "\n",
    "fitness_norm = torch.load(\"./../../data/GB1/progen2_fitness_norm.pt\")\n",
    "\n",
    "data = {\n",
    "    \"Variants\": variants,\n",
    "    \"Fitness\": fitness,\n",
    "    \"Fitness_norm\": fitness_norm,\n",
    "    \"Sequences\": [seq for seq in tokenized_sequences.to(\"cpu\")],\n",
    "    \"Embedding\": [emb for emb in embeddings.to(\"cpu\")],\n",
    "}\n",
    "df = pd.DataFrame(data)"
   ]
  },
  {
   "cell_type": "code",
   "execution_count": 52,
   "metadata": {},
   "outputs": [
    {
     "name": "stdout",
     "output_type": "stream",
     "text": [
      "saving to file \"s:\\Documents\\master\\code\\llm./../../data/GB1/esm-1b_dataframe.pt\"\n"
     ]
    }
   ],
   "source": [
    "save_pt_file(\n",
    "    df,\n",
    "    save_to=\"./../../data/GB1/esm-1b_dataframe.pt\",\n",
    "    absolute_path=False,\n",
    ")"
   ]
  },
  {
   "cell_type": "markdown",
   "metadata": {},
   "source": [
    "Normalized Fitness"
   ]
  },
  {
   "cell_type": "code",
   "execution_count": 42,
   "metadata": {},
   "outputs": [],
   "source": [
    "fitness = torch.from_numpy(df[\"Fitness\"].values)"
   ]
  },
  {
   "cell_type": "code",
   "execution_count": 44,
   "metadata": {},
   "outputs": [],
   "source": [
    "min_fitness, _ = torch.min(fitness, dim=0)\n",
    "fitness_norm = (fitness - min_fitness)\n",
    "max_fitness, _ = torch.max(fitness, dim=0)\n",
    "fitness_norm = fitness_norm / max_fitness"
   ]
  },
  {
   "cell_type": "code",
   "execution_count": 46,
   "metadata": {},
   "outputs": [
    {
     "name": "stdout",
     "output_type": "stream",
     "text": [
      "saving to file \"s:\\Documents\\master\\code\\llm./../../data/GB1/esm-1b_fitness.pt\"\n",
      "saving to file \"s:\\Documents\\master\\code\\llm./../../data/GB1/esm-1b_fitness_norm.pt\"\n"
     ]
    }
   ],
   "source": [
    "save_pt_file(\n",
    "    fitness,\n",
    "    save_to=\"./../../data/GB1/esm-1b_fitness.pt\",\n",
    "    absolute_path=False,\n",
    ")\n",
    "save_pt_file(\n",
    "    fitness_norm,\n",
    "    save_to=\"./../../data/GB1/esm-1b_fitness_norm.pt\",\n",
    "    absolute_path=False,\n",
    ")"
   ]
  },
  {
   "cell_type": "code",
   "execution_count": 26,
   "metadata": {},
   "outputs": [],
   "source": [
    "variants = df[\"Variants\"].values"
   ]
  },
  {
   "cell_type": "code",
   "execution_count": 28,
   "metadata": {},
   "outputs": [
    {
     "name": "stdout",
     "output_type": "stream",
     "text": [
      "saving to file \"s:\\Documents\\master\\code\\llm./../../data/GB1/esm-1b_variants.pt\"\n"
     ]
    }
   ],
   "source": [
    "save_pt_file(\n",
    "    variants,\n",
    "    save_to=\"./../../data/GB1/esm-1b_variants.pt\",\n",
    "    absolute_path=False,\n",
    ")"
   ]
  },
  {
   "cell_type": "code",
   "execution_count": 48,
   "metadata": {},
   "outputs": [],
   "source": [
    "df[\"Fitness_norm\"] = fitness_norm"
   ]
  },
  {
   "cell_type": "markdown",
   "metadata": {},
   "source": [
    "Sandbox"
   ]
  },
  {
   "cell_type": "code",
   "execution_count": 5,
   "metadata": {},
   "outputs": [],
   "source": [
    "embedding = torch.load(\"./../../data/GB1/esm-1b_embedding.pt\")"
   ]
  },
  {
   "cell_type": "code",
   "execution_count": 3,
   "metadata": {},
   "outputs": [],
   "source": [
    "df = torch.load(\"./../../data/GB1/esm-1b_dataframe.pt\")"
   ]
  },
  {
   "cell_type": "code",
   "execution_count": 7,
   "metadata": {},
   "outputs": [
    {
     "data": {
      "text/plain": [
       "torch.Size([149361, 1280])"
      ]
     },
     "execution_count": 7,
     "metadata": {},
     "output_type": "execute_result"
    }
   ],
   "source": [
    "embedding.size()"
   ]
  },
  {
   "cell_type": "code",
   "execution_count": 51,
   "metadata": {},
   "outputs": [
    {
     "data": {
      "text/html": [
       "<div>\n",
       "<style scoped>\n",
       "    .dataframe tbody tr th:only-of-type {\n",
       "        vertical-align: middle;\n",
       "    }\n",
       "\n",
       "    .dataframe tbody tr th {\n",
       "        vertical-align: top;\n",
       "    }\n",
       "\n",
       "    .dataframe thead th {\n",
       "        text-align: right;\n",
       "    }\n",
       "</style>\n",
       "<table border=\"1\" class=\"dataframe\">\n",
       "  <thead>\n",
       "    <tr style=\"text-align: right;\">\n",
       "      <th></th>\n",
       "      <th>Variants</th>\n",
       "      <th>Fitness</th>\n",
       "      <th>Fitness_norm</th>\n",
       "      <th>Sequences</th>\n",
       "      <th>Embedding</th>\n",
       "    </tr>\n",
       "  </thead>\n",
       "  <tbody>\n",
       "    <tr>\n",
       "      <th>122551</th>\n",
       "      <td>ADGV</td>\n",
       "      <td>0.06191</td>\n",
       "      <td>0.007066</td>\n",
       "      <td>[tensor(0), tensor(20), tensor(16), tensor(19)...</td>\n",
       "      <td>[tensor(-0.0198), tensor(0.1364), tensor(-0.01...</td>\n",
       "    </tr>\n",
       "  </tbody>\n",
       "</table>\n",
       "</div>"
      ],
      "text/plain": [
       "       Variants  Fitness  Fitness_norm  \\\n",
       "122551     ADGV  0.06191      0.007066   \n",
       "\n",
       "                                                Sequences  \\\n",
       "122551  [tensor(0), tensor(20), tensor(16), tensor(19)...   \n",
       "\n",
       "                                                Embedding  \n",
       "122551  [tensor(-0.0198), tensor(0.1364), tensor(-0.01...  "
      ]
     },
     "execution_count": 51,
     "metadata": {},
     "output_type": "execute_result"
    }
   ],
   "source": [
    "df.loc[df[\"Variants\"] == \"ADGV\"]"
   ]
  }
 ],
 "metadata": {
  "kernelspec": {
   "display_name": ".venv",
   "language": "python",
   "name": "python3"
  },
  "language_info": {
   "codemirror_mode": {
    "name": "ipython",
    "version": 3
   },
   "file_extension": ".py",
   "mimetype": "text/x-python",
   "name": "python",
   "nbconvert_exporter": "python",
   "pygments_lexer": "ipython3",
   "version": "3.11.6"
  }
 },
 "nbformat": 4,
 "nbformat_minor": 2
}
