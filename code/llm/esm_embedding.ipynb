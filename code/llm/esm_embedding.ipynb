{
 "cells": [
  {
   "cell_type": "code",
   "execution_count": 1,
   "metadata": {},
   "outputs": [],
   "source": [
    "import torch\n",
    "import esm\n",
    "\n",
    "from lib.data.datasets.GB1 import get_GB1_dataset\n",
    "from lib.utils.file import save_pt_file"
   ]
  },
  {
   "cell_type": "code",
   "execution_count": 3,
   "metadata": {},
   "outputs": [],
   "source": [
    "import itertools\n",
    "from lib.data.datasets.GB1 import prepare_sequences"
   ]
  },
  {
   "cell_type": "code",
   "execution_count": 12,
   "metadata": {},
   "outputs": [],
   "source": [
    "symbols = 'ARNDCQEGHILKMFPSTWYV'\n",
    "variants = [''.join(x) for x in itertools.product(symbols, repeat=4)]"
   ]
  },
  {
   "cell_type": "code",
   "execution_count": 13,
   "metadata": {},
   "outputs": [],
   "source": [
    "sequences = prepare_sequences(variants)"
   ]
  },
  {
   "cell_type": "code",
   "execution_count": 2,
   "metadata": {},
   "outputs": [],
   "source": [
    "sequences = [\"MQYKLILNGKTLKGETTTEAVDAATAEKVFKQYANDNG<mask><mask><mask>EWTYDDATKTFT<mask>TE\"]\n",
    "variants = [\"<mask><mask><mask><mask>\"]"
   ]
  },
  {
   "cell_type": "code",
   "execution_count": 7,
   "metadata": {},
   "outputs": [],
   "source": [
    "sequences = ['A', 'R', 'N', 'D', 'C', 'Q', 'E', 'G', 'H', 'I', 'L', 'K', 'M', 'F', 'P', 'S', 'T', 'W', 'Y', 'V']\n",
    "variants = sequences"
   ]
  },
  {
   "cell_type": "code",
   "execution_count": 2,
   "metadata": {},
   "outputs": [],
   "source": [
    "# checkpoints are downloaded to \"C:\\Users\\Matouš\\.cache\\torch\\hub\\checkpoints\\\"\n",
    "#esm2_t6_8M_UR50D #esm2_t33_650M_UR50D #esm1b_t33_650M_UR50S\n",
    "model, alphabet = esm.pretrained.esm1b_t33_650M_UR50S()\n",
    "\n",
    "batch_converter = alphabet.get_batch_converter()\n",
    "model.eval()  # disables dropout for deterministic results\n",
    "\n",
    "device = torch.device(\"cuda\" if torch.cuda.is_available() else \"cpu\")\n",
    "model = model.to(device)"
   ]
  },
  {
   "cell_type": "code",
   "execution_count": 6,
   "metadata": {},
   "outputs": [],
   "source": [
    "tokenized_sequences = torch.load(\"./../../data/GB1/esm-1b_sequences_complete.pt\")\n",
    "variants = torch.load(\"./../../data/GB1/esm-1b_variants_complete.pt\")"
   ]
  },
  {
   "cell_type": "code",
   "execution_count": 3,
   "metadata": {},
   "outputs": [
    {
     "name": "stderr",
     "output_type": "stream",
     "text": [
      "s:\\Documents\\master\\.venv\\Lib\\site-packages\\openpyxl\\worksheet\\_reader.py:329: UserWarning: Unknown extension is not supported and will be removed\n",
      "  warn(msg)\n"
     ]
    }
   ],
   "source": [
    "sequences, fitness, variants = get_GB1_dataset(\n",
    "    return_variants=True,\n",
    "    shuffle=False,\n",
    ")"
   ]
  },
  {
   "cell_type": "code",
   "execution_count": 66,
   "metadata": {},
   "outputs": [],
   "source": [
    "data = []\n",
    "for s in range(len(sequences)):\n",
    "    data.append((variants[s], sequences[s]))\n",
    "variants, sequences, tokenized_sequences = batch_converter(data)\n",
    "\n",
    "#tokenized_sequences = tokenized_sequences.to(device)"
   ]
  },
  {
   "cell_type": "code",
   "execution_count": 62,
   "metadata": {},
   "outputs": [
    {
     "data": {
      "text/plain": [
       "([None, None, None],\n",
       " ['A C', 'A<mask>C', 'ABC'],\n",
       " tensor([[ 0,  5, 23,  2,  1],\n",
       "         [ 0,  5, 32, 23,  2],\n",
       "         [ 0,  5, 25, 23,  2]]))"
      ]
     },
     "execution_count": 62,
     "metadata": {},
     "output_type": "execute_result"
    }
   ],
   "source": [
    "batch_converter([(None, \"A C\"), (None, \"A<mask>C\"), (None, \"ABC\")])"
   ]
  },
  {
   "cell_type": "code",
   "execution_count": 12,
   "metadata": {},
   "outputs": [],
   "source": [
    "with torch.no_grad():\n",
    "    output = model(tokenized_sequences[0:100], repr_layers=[33])"
   ]
  },
  {
   "cell_type": "code",
   "execution_count": 8,
   "metadata": {},
   "outputs": [
    {
     "data": {
      "text/plain": [
       "torch.Size([160000, 1280])"
      ]
     },
     "execution_count": 8,
     "metadata": {},
     "output_type": "execute_result"
    }
   ],
   "source": [
    "# Extract sequence embeddings\n",
    "SEQUENCE_LENGTH = len(tokenized_sequences[0])\n",
    "EMBEDDING_LENGTH = 1280\n",
    "\n",
    "embeddings = torch.empty(\n",
    "    (len(tokenized_sequences), EMBEDDING_LENGTH), dtype=torch.float32\n",
    ")\n",
    "with torch.no_grad():\n",
    "    for s in range(len(tokenized_sequences)):\n",
    "        results = model(\n",
    "            tokenized_sequences[s : s + 1, :], repr_layers=[33], return_contacts=True\n",
    "        )\n",
    "        representation = results[\"representations\"][33]\n",
    "        representation = representation[0,1:SEQUENCE_LENGTH-1].mean(0)\n",
    "        embeddings[s, :] = representation\n",
    "\n",
    "embeddings.size()"
   ]
  },
  {
   "cell_type": "code",
   "execution_count": 9,
   "metadata": {},
   "outputs": [
    {
     "name": "stdout",
     "output_type": "stream",
     "text": [
      "saving to file \"s:\\Documents\\master\\code\\llm./../../data/GB1/esm-1b_embedding_complete.pt\"\n"
     ]
    }
   ],
   "source": [
    "save_pt_file(\n",
    "    embeddings,\n",
    "    save_to=\"./../../data/GB1/esm-1b_embedding_complete.pt\",\n",
    "    absolute_path=False,\n",
    ")"
   ]
  },
  {
   "cell_type": "code",
   "execution_count": 14,
   "metadata": {},
   "outputs": [
    {
     "name": "stdout",
     "output_type": "stream",
     "text": [
      "saving to file \"s:\\Documents\\master\\code\\llm./../../data/GB1/esm-1b_embedding_masked.pt\"\n"
     ]
    }
   ],
   "source": [
    "save_pt_file(\n",
    "    embeddings,\n",
    "    save_to=\"./../../data/GB1/esm-1b_embedding_masked.pt\",\n",
    "    absolute_path=False,\n",
    ")"
   ]
  },
  {
   "cell_type": "code",
   "execution_count": 10,
   "metadata": {},
   "outputs": [
    {
     "name": "stdout",
     "output_type": "stream",
     "text": [
      "saving to file \"s:\\Documents\\master\\code\\llm./../../data/esm-1b_amino_acids.pt\"\n"
     ]
    }
   ],
   "source": [
    "save_pt_file(\n",
    "    tokenized_sequences,\n",
    "    save_to=\"./../../data/GB1/esm-1b_sequences_masked.pt\",\n",
    "    absolute_path=False,\n",
    ")"
   ]
  },
  {
   "cell_type": "code",
   "execution_count": 5,
   "metadata": {},
   "outputs": [],
   "source": [
    "import pandas as pd\n",
    "\n",
    "#fitness_norm = torch.load(\"./../../data/GB1/progen2_fitness_norm.pt\")\n",
    "\n",
    "data = {\n",
    "    \"Variants\": variants,\n",
    "    \"Fitness\": fitness,\n",
    "    \"Fitness_norm\": fitness_norm,\n",
    "    \"Sequences\": [seq for seq in tokenized_sequences.to(\"cpu\")],\n",
    "    \"Embedding\": [emb for emb in embeddings.to(\"cpu\")],\n",
    "}\n",
    "df = pd.DataFrame(data)"
   ]
  },
  {
   "cell_type": "code",
   "execution_count": 6,
   "metadata": {},
   "outputs": [
    {
     "name": "stdout",
     "output_type": "stream",
     "text": [
      "saving to file \"s:\\Documents\\master\\code\\llm./../../data/GB1/esm-1b_dataframe.pt\"\n"
     ]
    }
   ],
   "source": [
    "save_pt_file(\n",
    "    df,\n",
    "    save_to=\"./../../data/GB1/esm-1b_dataframe.pt\",\n",
    "    absolute_path=False,\n",
    ")"
   ]
  },
  {
   "cell_type": "markdown",
   "metadata": {},
   "source": [
    "Normalized Fitness"
   ]
  },
  {
   "cell_type": "code",
   "execution_count": 42,
   "metadata": {},
   "outputs": [],
   "source": [
    "fitness = torch.from_numpy(df[\"Fitness\"].values)"
   ]
  },
  {
   "cell_type": "code",
   "execution_count": 8,
   "metadata": {},
   "outputs": [],
   "source": [
    "min_fitness, _ = torch.min(fitness, dim=0)\n",
    "fitness_norm = (fitness - min_fitness)\n",
    "max_fitness, _ = torch.max(fitness, dim=0)\n",
    "fitness_norm = fitness_norm / max_fitness"
   ]
  },
  {
   "cell_type": "code",
   "execution_count": 9,
   "metadata": {},
   "outputs": [
    {
     "name": "stdout",
     "output_type": "stream",
     "text": [
      "saving to file \"s:\\Documents\\master\\code\\llm./../../data/GB1/esm-1b_fitness.pt\"\n",
      "saving to file \"s:\\Documents\\master\\code\\llm./../../data/GB1/esm-1b_fitness_norm.pt\"\n"
     ]
    }
   ],
   "source": [
    "save_pt_file(\n",
    "    fitness,\n",
    "    save_to=\"./../../data/GB1/esm-1b_fitness.pt\",\n",
    "    absolute_path=False,\n",
    ")\n",
    "save_pt_file(\n",
    "    fitness_norm,\n",
    "    save_to=\"./../../data/GB1/esm-1b_fitness_norm.pt\",\n",
    "    absolute_path=False,\n",
    ")"
   ]
  },
  {
   "cell_type": "code",
   "execution_count": 26,
   "metadata": {},
   "outputs": [],
   "source": [
    "variants = df[\"Variants\"].values"
   ]
  },
  {
   "cell_type": "code",
   "execution_count": 12,
   "metadata": {},
   "outputs": [
    {
     "name": "stdout",
     "output_type": "stream",
     "text": [
      "saving to file \"s:\\Documents\\master\\code\\llm./../../data/amino_acids.pt\"\n"
     ]
    }
   ],
   "source": [
    "save_pt_file(\n",
    "    variants,\n",
    "    save_to=\"./../../data/GB1/esm-1b_variants_complete.pt\",\n",
    "    absolute_path=False,\n",
    ")"
   ]
  },
  {
   "cell_type": "code",
   "execution_count": 48,
   "metadata": {},
   "outputs": [],
   "source": [
    "df[\"Fitness_norm\"] = fitness_norm"
   ]
  },
  {
   "cell_type": "markdown",
   "metadata": {},
   "source": [
    "Sandbox"
   ]
  },
  {
   "cell_type": "code",
   "execution_count": 2,
   "metadata": {},
   "outputs": [],
   "source": [
    "embedding = torch.load(\"./../../data/GB1/esm-1b_embedding.pt\")\n",
    "fitness = torch.load(\"./../../data/GB1/esm-1b_fitness.pt\")\n",
    "fitness_norm = torch.load(\"./../../data/GB1/esm-1b_fitness_norm.pt\")\n",
    "sequences = torch.load(\"./../../data/GB1/esm-1b_sequences.pt\")\n",
    "variants = torch.load(\"./../../data/GB1/esm-1b_variants.pt\")"
   ]
  },
  {
   "cell_type": "code",
   "execution_count": 3,
   "metadata": {},
   "outputs": [],
   "source": [
    "fitness = torch.load(\"./../../data/GB1/esm-1b_fitness.pt\")\n",
    "fitness_norm = torch.load(\"./../../data/GB1/esm-1b_fitness_norm.pt\")"
   ]
  },
  {
   "cell_type": "code",
   "execution_count": 2,
   "metadata": {},
   "outputs": [],
   "source": [
    "import pandas"
   ]
  },
  {
   "cell_type": "code",
   "execution_count": null,
   "metadata": {},
   "outputs": [],
   "source": [
    "fitness_df = pandas.DataFrame(fitness.cpu().numpy())\n",
    "fitness_df.to_csv(\"./../../data/esm-1b_fitness.csv\", index=False)\n",
    "fitness_norm_df = pandas.DataFrame(fitness_norm.cpu().numpy())\n",
    "fitness_norm_df.to_csv(\"./../../data/esm-1b_fitness_norm.csv\", index=False)"
   ]
  },
  {
   "cell_type": "code",
   "execution_count": 12,
   "metadata": {},
   "outputs": [],
   "source": [
    "embedding_df = pandas.DataFrame(embeddings.cpu().numpy())\n",
    "embedding_df.to_csv(\"./../../data/esm-1b_embedding_complete.csv\", index=False)"
   ]
  },
  {
   "cell_type": "code",
   "execution_count": 18,
   "metadata": {},
   "outputs": [],
   "source": [
    "sequences_df = pandas.DataFrame(tokenized_sequences.cpu().numpy())\n",
    "sequences_df.to_csv(\"./../../data/esm-1b_amino_acids.csv\", index=False)"
   ]
  },
  {
   "cell_type": "code",
   "execution_count": 15,
   "metadata": {},
   "outputs": [],
   "source": [
    "variants_df = pandas.DataFrame(variants)\n",
    "variants_df.to_csv(\"./../../data/amino_acids.csv\", index=False)"
   ]
  },
  {
   "cell_type": "code",
   "execution_count": 31,
   "metadata": {},
   "outputs": [
    {
     "data": {
      "text/html": [
       "<div>\n",
       "<style scoped>\n",
       "    .dataframe tbody tr th:only-of-type {\n",
       "        vertical-align: middle;\n",
       "    }\n",
       "\n",
       "    .dataframe tbody tr th {\n",
       "        vertical-align: top;\n",
       "    }\n",
       "\n",
       "    .dataframe thead th {\n",
       "        text-align: right;\n",
       "    }\n",
       "</style>\n",
       "<table border=\"1\" class=\"dataframe\">\n",
       "  <thead>\n",
       "    <tr style=\"text-align: right;\">\n",
       "      <th></th>\n",
       "      <th>0</th>\n",
       "      <th>1</th>\n",
       "      <th>2</th>\n",
       "      <th>3</th>\n",
       "      <th>4</th>\n",
       "      <th>5</th>\n",
       "      <th>6</th>\n",
       "      <th>7</th>\n",
       "      <th>8</th>\n",
       "      <th>9</th>\n",
       "      <th>...</th>\n",
       "      <th>48</th>\n",
       "      <th>49</th>\n",
       "      <th>50</th>\n",
       "      <th>51</th>\n",
       "      <th>52</th>\n",
       "      <th>53</th>\n",
       "      <th>54</th>\n",
       "      <th>55</th>\n",
       "      <th>56</th>\n",
       "      <th>57</th>\n",
       "    </tr>\n",
       "  </thead>\n",
       "  <tbody>\n",
       "    <tr>\n",
       "      <th>0</th>\n",
       "      <td>0</td>\n",
       "      <td>20</td>\n",
       "      <td>16</td>\n",
       "      <td>19</td>\n",
       "      <td>15</td>\n",
       "      <td>4</td>\n",
       "      <td>12</td>\n",
       "      <td>4</td>\n",
       "      <td>17</td>\n",
       "      <td>6</td>\n",
       "      <td>...</td>\n",
       "      <td>5</td>\n",
       "      <td>11</td>\n",
       "      <td>15</td>\n",
       "      <td>11</td>\n",
       "      <td>18</td>\n",
       "      <td>11</td>\n",
       "      <td>5</td>\n",
       "      <td>11</td>\n",
       "      <td>9</td>\n",
       "      <td>2</td>\n",
       "    </tr>\n",
       "    <tr>\n",
       "      <th>1</th>\n",
       "      <td>0</td>\n",
       "      <td>20</td>\n",
       "      <td>16</td>\n",
       "      <td>19</td>\n",
       "      <td>15</td>\n",
       "      <td>4</td>\n",
       "      <td>12</td>\n",
       "      <td>4</td>\n",
       "      <td>17</td>\n",
       "      <td>6</td>\n",
       "      <td>...</td>\n",
       "      <td>5</td>\n",
       "      <td>11</td>\n",
       "      <td>15</td>\n",
       "      <td>11</td>\n",
       "      <td>18</td>\n",
       "      <td>11</td>\n",
       "      <td>10</td>\n",
       "      <td>11</td>\n",
       "      <td>9</td>\n",
       "      <td>2</td>\n",
       "    </tr>\n",
       "    <tr>\n",
       "      <th>2</th>\n",
       "      <td>0</td>\n",
       "      <td>20</td>\n",
       "      <td>16</td>\n",
       "      <td>19</td>\n",
       "      <td>15</td>\n",
       "      <td>4</td>\n",
       "      <td>12</td>\n",
       "      <td>4</td>\n",
       "      <td>17</td>\n",
       "      <td>6</td>\n",
       "      <td>...</td>\n",
       "      <td>5</td>\n",
       "      <td>11</td>\n",
       "      <td>15</td>\n",
       "      <td>11</td>\n",
       "      <td>18</td>\n",
       "      <td>11</td>\n",
       "      <td>17</td>\n",
       "      <td>11</td>\n",
       "      <td>9</td>\n",
       "      <td>2</td>\n",
       "    </tr>\n",
       "    <tr>\n",
       "      <th>3</th>\n",
       "      <td>0</td>\n",
       "      <td>20</td>\n",
       "      <td>16</td>\n",
       "      <td>19</td>\n",
       "      <td>15</td>\n",
       "      <td>4</td>\n",
       "      <td>12</td>\n",
       "      <td>4</td>\n",
       "      <td>17</td>\n",
       "      <td>6</td>\n",
       "      <td>...</td>\n",
       "      <td>5</td>\n",
       "      <td>11</td>\n",
       "      <td>15</td>\n",
       "      <td>11</td>\n",
       "      <td>18</td>\n",
       "      <td>11</td>\n",
       "      <td>13</td>\n",
       "      <td>11</td>\n",
       "      <td>9</td>\n",
       "      <td>2</td>\n",
       "    </tr>\n",
       "    <tr>\n",
       "      <th>4</th>\n",
       "      <td>0</td>\n",
       "      <td>20</td>\n",
       "      <td>16</td>\n",
       "      <td>19</td>\n",
       "      <td>15</td>\n",
       "      <td>4</td>\n",
       "      <td>12</td>\n",
       "      <td>4</td>\n",
       "      <td>17</td>\n",
       "      <td>6</td>\n",
       "      <td>...</td>\n",
       "      <td>5</td>\n",
       "      <td>11</td>\n",
       "      <td>15</td>\n",
       "      <td>11</td>\n",
       "      <td>18</td>\n",
       "      <td>11</td>\n",
       "      <td>23</td>\n",
       "      <td>11</td>\n",
       "      <td>9</td>\n",
       "      <td>2</td>\n",
       "    </tr>\n",
       "    <tr>\n",
       "      <th>...</th>\n",
       "      <td>...</td>\n",
       "      <td>...</td>\n",
       "      <td>...</td>\n",
       "      <td>...</td>\n",
       "      <td>...</td>\n",
       "      <td>...</td>\n",
       "      <td>...</td>\n",
       "      <td>...</td>\n",
       "      <td>...</td>\n",
       "      <td>...</td>\n",
       "      <td>...</td>\n",
       "      <td>...</td>\n",
       "      <td>...</td>\n",
       "      <td>...</td>\n",
       "      <td>...</td>\n",
       "      <td>...</td>\n",
       "      <td>...</td>\n",
       "      <td>...</td>\n",
       "      <td>...</td>\n",
       "      <td>...</td>\n",
       "      <td>...</td>\n",
       "    </tr>\n",
       "    <tr>\n",
       "      <th>159995</th>\n",
       "      <td>0</td>\n",
       "      <td>20</td>\n",
       "      <td>16</td>\n",
       "      <td>19</td>\n",
       "      <td>15</td>\n",
       "      <td>4</td>\n",
       "      <td>12</td>\n",
       "      <td>4</td>\n",
       "      <td>17</td>\n",
       "      <td>6</td>\n",
       "      <td>...</td>\n",
       "      <td>5</td>\n",
       "      <td>11</td>\n",
       "      <td>15</td>\n",
       "      <td>11</td>\n",
       "      <td>18</td>\n",
       "      <td>11</td>\n",
       "      <td>8</td>\n",
       "      <td>11</td>\n",
       "      <td>9</td>\n",
       "      <td>2</td>\n",
       "    </tr>\n",
       "    <tr>\n",
       "      <th>159996</th>\n",
       "      <td>0</td>\n",
       "      <td>20</td>\n",
       "      <td>16</td>\n",
       "      <td>19</td>\n",
       "      <td>15</td>\n",
       "      <td>4</td>\n",
       "      <td>12</td>\n",
       "      <td>4</td>\n",
       "      <td>17</td>\n",
       "      <td>6</td>\n",
       "      <td>...</td>\n",
       "      <td>5</td>\n",
       "      <td>11</td>\n",
       "      <td>15</td>\n",
       "      <td>11</td>\n",
       "      <td>18</td>\n",
       "      <td>11</td>\n",
       "      <td>11</td>\n",
       "      <td>11</td>\n",
       "      <td>9</td>\n",
       "      <td>2</td>\n",
       "    </tr>\n",
       "    <tr>\n",
       "      <th>159997</th>\n",
       "      <td>0</td>\n",
       "      <td>20</td>\n",
       "      <td>16</td>\n",
       "      <td>19</td>\n",
       "      <td>15</td>\n",
       "      <td>4</td>\n",
       "      <td>12</td>\n",
       "      <td>4</td>\n",
       "      <td>17</td>\n",
       "      <td>6</td>\n",
       "      <td>...</td>\n",
       "      <td>5</td>\n",
       "      <td>11</td>\n",
       "      <td>15</td>\n",
       "      <td>11</td>\n",
       "      <td>18</td>\n",
       "      <td>11</td>\n",
       "      <td>22</td>\n",
       "      <td>11</td>\n",
       "      <td>9</td>\n",
       "      <td>2</td>\n",
       "    </tr>\n",
       "    <tr>\n",
       "      <th>159998</th>\n",
       "      <td>0</td>\n",
       "      <td>20</td>\n",
       "      <td>16</td>\n",
       "      <td>19</td>\n",
       "      <td>15</td>\n",
       "      <td>4</td>\n",
       "      <td>12</td>\n",
       "      <td>4</td>\n",
       "      <td>17</td>\n",
       "      <td>6</td>\n",
       "      <td>...</td>\n",
       "      <td>5</td>\n",
       "      <td>11</td>\n",
       "      <td>15</td>\n",
       "      <td>11</td>\n",
       "      <td>18</td>\n",
       "      <td>11</td>\n",
       "      <td>19</td>\n",
       "      <td>11</td>\n",
       "      <td>9</td>\n",
       "      <td>2</td>\n",
       "    </tr>\n",
       "    <tr>\n",
       "      <th>159999</th>\n",
       "      <td>0</td>\n",
       "      <td>20</td>\n",
       "      <td>16</td>\n",
       "      <td>19</td>\n",
       "      <td>15</td>\n",
       "      <td>4</td>\n",
       "      <td>12</td>\n",
       "      <td>4</td>\n",
       "      <td>17</td>\n",
       "      <td>6</td>\n",
       "      <td>...</td>\n",
       "      <td>5</td>\n",
       "      <td>11</td>\n",
       "      <td>15</td>\n",
       "      <td>11</td>\n",
       "      <td>18</td>\n",
       "      <td>11</td>\n",
       "      <td>7</td>\n",
       "      <td>11</td>\n",
       "      <td>9</td>\n",
       "      <td>2</td>\n",
       "    </tr>\n",
       "  </tbody>\n",
       "</table>\n",
       "<p>160000 rows × 58 columns</p>\n",
       "</div>"
      ],
      "text/plain": [
       "        0   1   2   3   4  5   6  7   8  9  ...  48  49  50  51  52  53  54  \\\n",
       "0       0  20  16  19  15  4  12  4  17  6  ...   5  11  15  11  18  11   5   \n",
       "1       0  20  16  19  15  4  12  4  17  6  ...   5  11  15  11  18  11  10   \n",
       "2       0  20  16  19  15  4  12  4  17  6  ...   5  11  15  11  18  11  17   \n",
       "3       0  20  16  19  15  4  12  4  17  6  ...   5  11  15  11  18  11  13   \n",
       "4       0  20  16  19  15  4  12  4  17  6  ...   5  11  15  11  18  11  23   \n",
       "...    ..  ..  ..  ..  .. ..  .. ..  .. ..  ...  ..  ..  ..  ..  ..  ..  ..   \n",
       "159995  0  20  16  19  15  4  12  4  17  6  ...   5  11  15  11  18  11   8   \n",
       "159996  0  20  16  19  15  4  12  4  17  6  ...   5  11  15  11  18  11  11   \n",
       "159997  0  20  16  19  15  4  12  4  17  6  ...   5  11  15  11  18  11  22   \n",
       "159998  0  20  16  19  15  4  12  4  17  6  ...   5  11  15  11  18  11  19   \n",
       "159999  0  20  16  19  15  4  12  4  17  6  ...   5  11  15  11  18  11   7   \n",
       "\n",
       "        55  56  57  \n",
       "0       11   9   2  \n",
       "1       11   9   2  \n",
       "2       11   9   2  \n",
       "3       11   9   2  \n",
       "4       11   9   2  \n",
       "...     ..  ..  ..  \n",
       "159995  11   9   2  \n",
       "159996  11   9   2  \n",
       "159997  11   9   2  \n",
       "159998  11   9   2  \n",
       "159999  11   9   2  \n",
       "\n",
       "[160000 rows x 58 columns]"
      ]
     },
     "execution_count": 31,
     "metadata": {},
     "output_type": "execute_result"
    }
   ],
   "source": [
    "loaded_df = pandas.read_csv(\"./../../data/GB1/esm-1b_sequences.csv\")\n",
    "loaded_df"
   ]
  },
  {
   "cell_type": "code",
   "execution_count": 3,
   "metadata": {},
   "outputs": [],
   "source": [
    "df = torch.load(\"./../../data/GB1/esm-1b_dataframe.pt\")"
   ]
  },
  {
   "cell_type": "code",
   "execution_count": 7,
   "metadata": {},
   "outputs": [
    {
     "data": {
      "text/plain": [
       "torch.Size([149361, 1280])"
      ]
     },
     "execution_count": 7,
     "metadata": {},
     "output_type": "execute_result"
    }
   ],
   "source": [
    "embedding.size()"
   ]
  },
  {
   "cell_type": "code",
   "execution_count": 51,
   "metadata": {},
   "outputs": [
    {
     "data": {
      "text/html": [
       "<div>\n",
       "<style scoped>\n",
       "    .dataframe tbody tr th:only-of-type {\n",
       "        vertical-align: middle;\n",
       "    }\n",
       "\n",
       "    .dataframe tbody tr th {\n",
       "        vertical-align: top;\n",
       "    }\n",
       "\n",
       "    .dataframe thead th {\n",
       "        text-align: right;\n",
       "    }\n",
       "</style>\n",
       "<table border=\"1\" class=\"dataframe\">\n",
       "  <thead>\n",
       "    <tr style=\"text-align: right;\">\n",
       "      <th></th>\n",
       "      <th>Variants</th>\n",
       "      <th>Fitness</th>\n",
       "      <th>Fitness_norm</th>\n",
       "      <th>Sequences</th>\n",
       "      <th>Embedding</th>\n",
       "    </tr>\n",
       "  </thead>\n",
       "  <tbody>\n",
       "    <tr>\n",
       "      <th>122551</th>\n",
       "      <td>ADGV</td>\n",
       "      <td>0.06191</td>\n",
       "      <td>0.007066</td>\n",
       "      <td>[tensor(0), tensor(20), tensor(16), tensor(19)...</td>\n",
       "      <td>[tensor(-0.0198), tensor(0.1364), tensor(-0.01...</td>\n",
       "    </tr>\n",
       "  </tbody>\n",
       "</table>\n",
       "</div>"
      ],
      "text/plain": [
       "       Variants  Fitness  Fitness_norm  \\\n",
       "122551     ADGV  0.06191      0.007066   \n",
       "\n",
       "                                                Sequences  \\\n",
       "122551  [tensor(0), tensor(20), tensor(16), tensor(19)...   \n",
       "\n",
       "                                                Embedding  \n",
       "122551  [tensor(-0.0198), tensor(0.1364), tensor(-0.01...  "
      ]
     },
     "execution_count": 51,
     "metadata": {},
     "output_type": "execute_result"
    }
   ],
   "source": [
    "df.loc[df[\"Variants\"] == \"ADGV\"]"
   ]
  }
 ],
 "metadata": {
  "kernelspec": {
   "display_name": ".venv",
   "language": "python",
   "name": "python3"
  },
  "language_info": {
   "codemirror_mode": {
    "name": "ipython",
    "version": 3
   },
   "file_extension": ".py",
   "mimetype": "text/x-python",
   "name": "python",
   "nbconvert_exporter": "python",
   "pygments_lexer": "ipython3",
   "version": "3.11.6"
  }
 },
 "nbformat": 4,
 "nbformat_minor": 2
}
